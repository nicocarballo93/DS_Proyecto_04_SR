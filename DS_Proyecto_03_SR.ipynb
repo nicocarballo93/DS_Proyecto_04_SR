{
 "cells": [
  {
   "cell_type": "markdown",
   "metadata": {
    "id": "gzJLet17WTzh"
   },
   "source": [
    "# Proyecto 03 - Sistemas de Recomendación\n",
    "\n",
    "## Dataset: STEAM\n",
    "\n",
    "**Recuerda descargar el dataset de [aquí](https://github.com/kang205/SASRec). Son dos archivos, uno de calificaciones y otro de información sobre los juegos.**\n",
    "\n",
    "En este notebook te dejamos unas celdas para que puedas comenzar a trabajar con este dataset. Sin embargo, **deberás** modificarlas para hacer un mejor manejo de datos. Algunas cosas a las que deberás prestar atención (tal vez no a todas):\n",
    "1. Tipos de datos: elige tipos de datos apropiados para cada columna.\n",
    "2. Descartar columnas poco informativas.\n",
    "3. Guardar en memoria datasets preprocesados para no tener que repetir código que tarde en correr.\n",
    "\n",
    "### Exploración de datos\n",
    "\n",
    "Dedícale un buen tiempo a hacer un Análisis Exploratorio de Datos. Elige preguntas que creas que puedas responder con este dataset. Por ejemplo, ¿cuáles son los juegos más populares?¿Y los menos populares?\n",
    "\n",
    "### Filtro Colaborativo\n",
    "\n",
    "Deberás implementar un sistema de recomendación colaborativo para este dataset. Ten en cuenta:\n",
    "\n",
    "1. Haz todas las transformaciones de datos que consideres necesarias. Justifica.\n",
    "1. Evalúa de forma apropiada sus resultados. Justifica la métrica elegida.\n",
    "1. Elige un modelo benchmark y compara tus resultados con este modelo.\n",
    "1. Optimiza los hiperparámetros de tu modelo.\n",
    "\n",
    "Puedes implementar un filtro colaborativo a partir de la similitud coseno o índice de Jaccard. ¿Puedes utilizar los métodos de la librería Surprise? Si no es así, busca implementaciones (por ejemplo, nuevas librerías) que sean apropiadas.\n",
    "\n",
    "Para comenzar a trabajar, puedes asumir que cada entrada es un enlace entre una persona usuaria y un item, **independientemente** de si la crítica es buena o mala. \n",
    "\n",
    "### Para pensar, investigar y, opcionalmente, implementar\n",
    "1. ¿Cómo harías para ponerle un valor a la calificación?\n",
    "1. ¿Cómo harías para agregar contenido? Por ejemplo, cuentas con el género, precio, fecha de lanzamiento y más información de los juegos.\n",
    "1. ¿Hay algo que te gustaría investigar o probar?\n",
    "\n",
    "### **¡Tómate tiempo para investigar y leer mucho!**"
   ]
  },
  {
   "cell_type": "code",
   "execution_count": 1,
   "metadata": {
    "id": "lWZhtUxEWTzj"
   },
   "outputs": [],
   "source": [
    "import gzip\n",
    "import pandas as pd\n",
    "\n",
    "def parse(path):\n",
    "    g = gzip.open(path, 'r')\n",
    "    for l in g:\n",
    "        yield eval(l)"
   ]
  },
  {
   "cell_type": "markdown",
   "metadata": {
    "id": "BmEM25k4WTzw"
   },
   "source": [
    "**Reviews**"
   ]
  },
  {
   "cell_type": "code",
   "execution_count": 2,
   "metadata": {
    "id": "abAXItn1WTz0"
   },
   "outputs": [],
   "source": [
    "contador = 0\n",
    "data_reviews = []\n",
    "# Vamos a guardar una de cada 10 reviews para no llenar la memoria RAM. Si pones n = 3, \n",
    "# abrira uno de cada tres, y asi.\n",
    "n = 10\n",
    "for l in parse('steam_reviews.json.gz'):\n",
    "    if contador%n == 0:\n",
    "        data_reviews.append(l)\n",
    "    else:\n",
    "        pass\n",
    "    contador += 1\n"
   ]
  },
  {
   "cell_type": "code",
   "execution_count": 3,
   "metadata": {
    "id": "7GovAZQBWTz8"
   },
   "outputs": [],
   "source": [
    "data_reviews = pd.DataFrame(data_reviews)"
   ]
  },
  {
   "cell_type": "code",
   "execution_count": 4,
   "metadata": {
    "id": "j24F0ZaYWT0E"
   },
   "outputs": [
    {
     "data": {
      "text/html": [
       "<div>\n",
       "<style scoped>\n",
       "    .dataframe tbody tr th:only-of-type {\n",
       "        vertical-align: middle;\n",
       "    }\n",
       "\n",
       "    .dataframe tbody tr th {\n",
       "        vertical-align: top;\n",
       "    }\n",
       "\n",
       "    .dataframe thead th {\n",
       "        text-align: right;\n",
       "    }\n",
       "</style>\n",
       "<table border=\"1\" class=\"dataframe\">\n",
       "  <thead>\n",
       "    <tr style=\"text-align: right;\">\n",
       "      <th></th>\n",
       "      <th>username</th>\n",
       "      <th>hours</th>\n",
       "      <th>products</th>\n",
       "      <th>product_id</th>\n",
       "      <th>page_order</th>\n",
       "      <th>date</th>\n",
       "      <th>text</th>\n",
       "      <th>early_access</th>\n",
       "      <th>page</th>\n",
       "      <th>user_id</th>\n",
       "      <th>compensation</th>\n",
       "      <th>found_funny</th>\n",
       "    </tr>\n",
       "  </thead>\n",
       "  <tbody>\n",
       "    <tr>\n",
       "      <th>0</th>\n",
       "      <td>Chaos Syren</td>\n",
       "      <td>0.1</td>\n",
       "      <td>41.0</td>\n",
       "      <td>725280</td>\n",
       "      <td>0</td>\n",
       "      <td>2017-12-17</td>\n",
       "      <td>This would not be acceptable as an entertainme...</td>\n",
       "      <td>False</td>\n",
       "      <td>1</td>\n",
       "      <td>NaN</td>\n",
       "      <td>NaN</td>\n",
       "      <td>NaN</td>\n",
       "    </tr>\n",
       "    <tr>\n",
       "      <th>1</th>\n",
       "      <td>Ariman1</td>\n",
       "      <td>13.2</td>\n",
       "      <td>1386.0</td>\n",
       "      <td>328100</td>\n",
       "      <td>2</td>\n",
       "      <td>2017-08-02</td>\n",
       "      <td>Addictive RPG ! Works fine on linux though it ...</td>\n",
       "      <td>False</td>\n",
       "      <td>1</td>\n",
       "      <td>NaN</td>\n",
       "      <td>NaN</td>\n",
       "      <td>NaN</td>\n",
       "    </tr>\n",
       "    <tr>\n",
       "      <th>2</th>\n",
       "      <td>freakfantom</td>\n",
       "      <td>0.1</td>\n",
       "      <td>1706.0</td>\n",
       "      <td>725280</td>\n",
       "      <td>5</td>\n",
       "      <td>2017-11-12</td>\n",
       "      <td>Прикольная стрелялка. Взял дешево на распродаже.</td>\n",
       "      <td>False</td>\n",
       "      <td>1</td>\n",
       "      <td>NaN</td>\n",
       "      <td>NaN</td>\n",
       "      <td>NaN</td>\n",
       "    </tr>\n",
       "    <tr>\n",
       "      <th>3</th>\n",
       "      <td>The_Cpt_FROGGY</td>\n",
       "      <td>7.8</td>\n",
       "      <td>2217.0</td>\n",
       "      <td>631920</td>\n",
       "      <td>0</td>\n",
       "      <td>2017-12-11</td>\n",
       "      <td>Somewhere on Zibylon:\\n~~~~~~~~~~~~~~~~~~\\nZib...</td>\n",
       "      <td>False</td>\n",
       "      <td>1</td>\n",
       "      <td>76561198003030375</td>\n",
       "      <td>Product received for free</td>\n",
       "      <td>NaN</td>\n",
       "    </tr>\n",
       "    <tr>\n",
       "      <th>4</th>\n",
       "      <td>the_maker988</td>\n",
       "      <td>8.2</td>\n",
       "      <td>18.0</td>\n",
       "      <td>35140</td>\n",
       "      <td>7</td>\n",
       "      <td>2018-01-02</td>\n",
       "      <td>This game was way to linear for me, and compar...</td>\n",
       "      <td>False</td>\n",
       "      <td>1</td>\n",
       "      <td>76561198353396844</td>\n",
       "      <td>NaN</td>\n",
       "      <td>NaN</td>\n",
       "    </tr>\n",
       "  </tbody>\n",
       "</table>\n",
       "</div>"
      ],
      "text/plain": [
       "         username  hours  products product_id  page_order        date  \\\n",
       "0     Chaos Syren    0.1      41.0     725280           0  2017-12-17   \n",
       "1         Ariman1   13.2    1386.0     328100           2  2017-08-02   \n",
       "2     freakfantom    0.1    1706.0     725280           5  2017-11-12   \n",
       "3  The_Cpt_FROGGY    7.8    2217.0     631920           0  2017-12-11   \n",
       "4    the_maker988    8.2      18.0      35140           7  2018-01-02   \n",
       "\n",
       "                                                text  early_access  page  \\\n",
       "0  This would not be acceptable as an entertainme...         False     1   \n",
       "1  Addictive RPG ! Works fine on linux though it ...         False     1   \n",
       "2   Прикольная стрелялка. Взял дешево на распродаже.         False     1   \n",
       "3  Somewhere on Zibylon:\\n~~~~~~~~~~~~~~~~~~\\nZib...         False     1   \n",
       "4  This game was way to linear for me, and compar...         False     1   \n",
       "\n",
       "             user_id               compensation  found_funny  \n",
       "0                NaN                        NaN          NaN  \n",
       "1                NaN                        NaN          NaN  \n",
       "2                NaN                        NaN          NaN  \n",
       "3  76561198003030375  Product received for free          NaN  \n",
       "4  76561198353396844                        NaN          NaN  "
      ]
     },
     "execution_count": 4,
     "metadata": {},
     "output_type": "execute_result"
    }
   ],
   "source": [
    "data_reviews.head(5)"
   ]
  },
  {
   "cell_type": "markdown",
   "metadata": {
    "id": "04ed3teRWT0T"
   },
   "source": [
    "**Games**"
   ]
  },
  {
   "cell_type": "code",
   "execution_count": 5,
   "metadata": {
    "id": "8wRb24Y5WT0U"
   },
   "outputs": [],
   "source": [
    "data_games = []\n",
    "for l in parse('steam_games.json.gz'):\n",
    "    data_games.append(l)\n",
    "data_games = pd.DataFrame(data_games)"
   ]
  },
  {
   "cell_type": "code",
   "execution_count": 6,
   "metadata": {
    "id": "sVR0Cs6SWT0b"
   },
   "outputs": [
    {
     "data": {
      "text/html": [
       "<div>\n",
       "<style scoped>\n",
       "    .dataframe tbody tr th:only-of-type {\n",
       "        vertical-align: middle;\n",
       "    }\n",
       "\n",
       "    .dataframe tbody tr th {\n",
       "        vertical-align: top;\n",
       "    }\n",
       "\n",
       "    .dataframe thead th {\n",
       "        text-align: right;\n",
       "    }\n",
       "</style>\n",
       "<table border=\"1\" class=\"dataframe\">\n",
       "  <thead>\n",
       "    <tr style=\"text-align: right;\">\n",
       "      <th></th>\n",
       "      <th>publisher</th>\n",
       "      <th>genres</th>\n",
       "      <th>app_name</th>\n",
       "      <th>title</th>\n",
       "      <th>url</th>\n",
       "      <th>release_date</th>\n",
       "      <th>tags</th>\n",
       "      <th>discount_price</th>\n",
       "      <th>reviews_url</th>\n",
       "      <th>specs</th>\n",
       "      <th>price</th>\n",
       "      <th>early_access</th>\n",
       "      <th>id</th>\n",
       "      <th>developer</th>\n",
       "      <th>sentiment</th>\n",
       "      <th>metascore</th>\n",
       "    </tr>\n",
       "  </thead>\n",
       "  <tbody>\n",
       "    <tr>\n",
       "      <th>0</th>\n",
       "      <td>Kotoshiro</td>\n",
       "      <td>[Action, Casual, Indie, Simulation, Strategy]</td>\n",
       "      <td>Lost Summoner Kitty</td>\n",
       "      <td>Lost Summoner Kitty</td>\n",
       "      <td>http://store.steampowered.com/app/761140/Lost_...</td>\n",
       "      <td>2018-01-04</td>\n",
       "      <td>[Strategy, Action, Indie, Casual, Simulation]</td>\n",
       "      <td>4.49</td>\n",
       "      <td>http://steamcommunity.com/app/761140/reviews/?...</td>\n",
       "      <td>[Single-player]</td>\n",
       "      <td>4.99</td>\n",
       "      <td>False</td>\n",
       "      <td>761140</td>\n",
       "      <td>Kotoshiro</td>\n",
       "      <td>NaN</td>\n",
       "      <td>NaN</td>\n",
       "    </tr>\n",
       "    <tr>\n",
       "      <th>1</th>\n",
       "      <td>Making Fun, Inc.</td>\n",
       "      <td>[Free to Play, Indie, RPG, Strategy]</td>\n",
       "      <td>Ironbound</td>\n",
       "      <td>Ironbound</td>\n",
       "      <td>http://store.steampowered.com/app/643980/Ironb...</td>\n",
       "      <td>2018-01-04</td>\n",
       "      <td>[Free to Play, Strategy, Indie, RPG, Card Game...</td>\n",
       "      <td>NaN</td>\n",
       "      <td>http://steamcommunity.com/app/643980/reviews/?...</td>\n",
       "      <td>[Single-player, Multi-player, Online Multi-Pla...</td>\n",
       "      <td>Free To Play</td>\n",
       "      <td>False</td>\n",
       "      <td>643980</td>\n",
       "      <td>Secret Level SRL</td>\n",
       "      <td>Mostly Positive</td>\n",
       "      <td>NaN</td>\n",
       "    </tr>\n",
       "    <tr>\n",
       "      <th>2</th>\n",
       "      <td>Poolians.com</td>\n",
       "      <td>[Casual, Free to Play, Indie, Simulation, Sports]</td>\n",
       "      <td>Real Pool 3D - Poolians</td>\n",
       "      <td>Real Pool 3D - Poolians</td>\n",
       "      <td>http://store.steampowered.com/app/670290/Real_...</td>\n",
       "      <td>2017-07-24</td>\n",
       "      <td>[Free to Play, Simulation, Sports, Casual, Ind...</td>\n",
       "      <td>NaN</td>\n",
       "      <td>http://steamcommunity.com/app/670290/reviews/?...</td>\n",
       "      <td>[Single-player, Multi-player, Online Multi-Pla...</td>\n",
       "      <td>Free to Play</td>\n",
       "      <td>False</td>\n",
       "      <td>670290</td>\n",
       "      <td>Poolians.com</td>\n",
       "      <td>Mostly Positive</td>\n",
       "      <td>NaN</td>\n",
       "    </tr>\n",
       "    <tr>\n",
       "      <th>3</th>\n",
       "      <td>彼岸领域</td>\n",
       "      <td>[Action, Adventure, Casual]</td>\n",
       "      <td>弹炸人2222</td>\n",
       "      <td>弹炸人2222</td>\n",
       "      <td>http://store.steampowered.com/app/767400/2222/</td>\n",
       "      <td>2017-12-07</td>\n",
       "      <td>[Action, Adventure, Casual]</td>\n",
       "      <td>0.83</td>\n",
       "      <td>http://steamcommunity.com/app/767400/reviews/?...</td>\n",
       "      <td>[Single-player]</td>\n",
       "      <td>0.99</td>\n",
       "      <td>False</td>\n",
       "      <td>767400</td>\n",
       "      <td>彼岸领域</td>\n",
       "      <td>NaN</td>\n",
       "      <td>NaN</td>\n",
       "    </tr>\n",
       "    <tr>\n",
       "      <th>4</th>\n",
       "      <td>NaN</td>\n",
       "      <td>NaN</td>\n",
       "      <td>Log Challenge</td>\n",
       "      <td>NaN</td>\n",
       "      <td>http://store.steampowered.com/app/773570/Log_C...</td>\n",
       "      <td>NaN</td>\n",
       "      <td>[Action, Indie, Casual, Sports]</td>\n",
       "      <td>1.79</td>\n",
       "      <td>http://steamcommunity.com/app/773570/reviews/?...</td>\n",
       "      <td>[Single-player, Full controller support, HTC V...</td>\n",
       "      <td>2.99</td>\n",
       "      <td>False</td>\n",
       "      <td>773570</td>\n",
       "      <td>NaN</td>\n",
       "      <td>NaN</td>\n",
       "      <td>NaN</td>\n",
       "    </tr>\n",
       "  </tbody>\n",
       "</table>\n",
       "</div>"
      ],
      "text/plain": [
       "          publisher                                             genres  \\\n",
       "0         Kotoshiro      [Action, Casual, Indie, Simulation, Strategy]   \n",
       "1  Making Fun, Inc.               [Free to Play, Indie, RPG, Strategy]   \n",
       "2      Poolians.com  [Casual, Free to Play, Indie, Simulation, Sports]   \n",
       "3              彼岸领域                        [Action, Adventure, Casual]   \n",
       "4               NaN                                                NaN   \n",
       "\n",
       "                  app_name                    title  \\\n",
       "0      Lost Summoner Kitty      Lost Summoner Kitty   \n",
       "1                Ironbound                Ironbound   \n",
       "2  Real Pool 3D - Poolians  Real Pool 3D - Poolians   \n",
       "3                  弹炸人2222                  弹炸人2222   \n",
       "4            Log Challenge                      NaN   \n",
       "\n",
       "                                                 url release_date  \\\n",
       "0  http://store.steampowered.com/app/761140/Lost_...   2018-01-04   \n",
       "1  http://store.steampowered.com/app/643980/Ironb...   2018-01-04   \n",
       "2  http://store.steampowered.com/app/670290/Real_...   2017-07-24   \n",
       "3     http://store.steampowered.com/app/767400/2222/   2017-12-07   \n",
       "4  http://store.steampowered.com/app/773570/Log_C...          NaN   \n",
       "\n",
       "                                                tags  discount_price  \\\n",
       "0      [Strategy, Action, Indie, Casual, Simulation]            4.49   \n",
       "1  [Free to Play, Strategy, Indie, RPG, Card Game...             NaN   \n",
       "2  [Free to Play, Simulation, Sports, Casual, Ind...             NaN   \n",
       "3                        [Action, Adventure, Casual]            0.83   \n",
       "4                    [Action, Indie, Casual, Sports]            1.79   \n",
       "\n",
       "                                         reviews_url  \\\n",
       "0  http://steamcommunity.com/app/761140/reviews/?...   \n",
       "1  http://steamcommunity.com/app/643980/reviews/?...   \n",
       "2  http://steamcommunity.com/app/670290/reviews/?...   \n",
       "3  http://steamcommunity.com/app/767400/reviews/?...   \n",
       "4  http://steamcommunity.com/app/773570/reviews/?...   \n",
       "\n",
       "                                               specs         price  \\\n",
       "0                                    [Single-player]          4.99   \n",
       "1  [Single-player, Multi-player, Online Multi-Pla...  Free To Play   \n",
       "2  [Single-player, Multi-player, Online Multi-Pla...  Free to Play   \n",
       "3                                    [Single-player]          0.99   \n",
       "4  [Single-player, Full controller support, HTC V...          2.99   \n",
       "\n",
       "   early_access      id         developer        sentiment metascore  \n",
       "0         False  761140         Kotoshiro              NaN       NaN  \n",
       "1         False  643980  Secret Level SRL  Mostly Positive       NaN  \n",
       "2         False  670290      Poolians.com  Mostly Positive       NaN  \n",
       "3         False  767400              彼岸领域              NaN       NaN  \n",
       "4         False  773570               NaN              NaN       NaN  "
      ]
     },
     "execution_count": 6,
     "metadata": {},
     "output_type": "execute_result"
    }
   ],
   "source": [
    "data_games.head(5)"
   ]
  },
  {
   "cell_type": "code",
   "execution_count": 7,
   "metadata": {
    "id": "Bt5BLCw5WT0g"
   },
   "outputs": [
    {
     "data": {
      "text/plain": [
       "username             0\n",
       "hours             2637\n",
       "products          1566\n",
       "product_id           0\n",
       "page_order           0\n",
       "date                 0\n",
       "text                 0\n",
       "early_access         0\n",
       "page                 0\n",
       "user_id         461967\n",
       "compensation    764719\n",
       "found_funny     659143\n",
       "dtype: int64"
      ]
     },
     "execution_count": 7,
     "metadata": {},
     "output_type": "execute_result"
    }
   ],
   "source": [
    "data_reviews.isna().sum()"
   ]
  },
  {
   "cell_type": "code",
   "execution_count": 8,
   "metadata": {},
   "outputs": [
    {
     "data": {
      "text/plain": [
       "Text(0, 0.5, 'Frecuencia por bins')"
      ]
     },
     "execution_count": 8,
     "metadata": {},
     "output_type": "execute_result"
    },
    {
     "data": {
      "image/png": "[encoded data removed]",
      "text/plain": [
       "<Figure size 1080x576 with 1 Axes>"
      ]
     },
     "metadata": {
      "needs_background": "light"
     },
     "output_type": "display_data"
    }
   ],
   "source": [
    "import seaborn as sns\n",
    "import matplotlib.pyplot as plt\n",
    "\n",
    "fig, ax = plt.subplots(figsize=(15,8))\n",
    "ax = sns.distplot(data_games.price.value_counts(), color=\"y\")\n",
    "ax.set_xlabel('Precio (USD)')\n",
    "ax.set_ylabel('Frecuencia por bins')"
   ]
  },
  {
   "cell_type": "markdown",
   "metadata": {},
   "source": [
    "Observamos en la distribución de los precios de los juegos que la mayoría se encuentra entre 0 y 30 USD."
   ]
  },
  {
   "cell_type": "code",
   "execution_count": 9,
   "metadata": {},
   "outputs": [
    {
     "data": {
      "text/plain": [
       "Text(0, 0.5, 'Frecuencia por bins')"
      ]
     },
     "execution_count": 9,
     "metadata": {},
     "output_type": "execute_result"
    },
    {
     "data": {
      "image/png": "[encoded data removed]",
      "text/plain": [
       "<Figure size 1080x576 with 1 Axes>"
      ]
     },
     "metadata": {
      "needs_background": "light"
     },
     "output_type": "display_data"
    }
   ],
   "source": [
    "data_games2 = data_games.drop(data_games[(data_games.price == 'Free To Play') |\n",
    "                                         (data_games.price == 'Free to Play') |\n",
    "                                        (data_games.price == 'Free') |\n",
    "                                        (data_games.price == 'Free Demo') |\n",
    "                                        (data_games.price == 'Play for Free!') |\n",
    "                                        (data_games.price == 'Install Now') |\n",
    "                                        (data_games.price == 'Play WARMACHINE: Tactics Demo') |\n",
    "                                        (data_games.price == 'Free Mod') |\n",
    "                                        (data_games.price == 'Install Theme') |\n",
    "                                        (data_games.price == 'Third-party') |\n",
    "                                        (data_games.price == 'Play Now') |\n",
    "                                        (data_games.price == 'Free HITMAN™ Holiday Pack') |\n",
    "                                        (data_games.price == 'Play the Demo') |\n",
    "                                        (data_games.price == 'Starting at $499.00')|\n",
    "                                        (data_games.price == 'Starting at $449.00') |\n",
    "                                        (data_games.price == 'Free to Try') |\n",
    "                                        (data_games.price == 'Free Movie') |\n",
    "                                        (data_games.price == 'Free To Use') |\n",
    "                                        (data_games.price == 'Free to Use')].index)\n",
    "\n",
    "data_games2 = data_games2[data_games2.price<=100]\n",
    "fig, ax = plt.subplots(figsize=(15,8))\n",
    "ax = sns.distplot(data_games2.price, color=\"y\")\n",
    "ax.set_xlabel('Precio (USD)')\n",
    "ax.set_ylabel('Frecuencia por bins')"
   ]
  },
  {
   "cell_type": "markdown",
   "metadata": {},
   "source": [
    "Para entender cuales son los juegos más relevantes según los usuarios que realizaron reviewas, haremos un match de los 100 juegos con mas reviews del dataset, tal que tengan mas de 5 horas acumuladas de uso del juego por usuario"
   ]
  },
  {
   "cell_type": "code",
   "execution_count": 10,
   "metadata": {},
   "outputs": [
    {
     "name": "stdout",
     "output_type": "stream",
     "text": [
      "99\r"
     ]
    },
    {
     "data": {
      "text/html": [
       "<div>\n",
       "<style scoped>\n",
       "    .dataframe tbody tr th:only-of-type {\n",
       "        vertical-align: middle;\n",
       "    }\n",
       "\n",
       "    .dataframe tbody tr th {\n",
       "        vertical-align: top;\n",
       "    }\n",
       "\n",
       "    .dataframe thead th {\n",
       "        text-align: right;\n",
       "    }\n",
       "</style>\n",
       "<table border=\"1\" class=\"dataframe\">\n",
       "  <thead>\n",
       "    <tr style=\"text-align: right;\">\n",
       "      <th></th>\n",
       "      <th>publisher</th>\n",
       "      <th>genres</th>\n",
       "      <th>app_name</th>\n",
       "      <th>title</th>\n",
       "      <th>total_hours_played</th>\n",
       "      <th>url</th>\n",
       "      <th>release_date</th>\n",
       "      <th>tags</th>\n",
       "      <th>discount_price</th>\n",
       "      <th>reviews_url</th>\n",
       "      <th>specs</th>\n",
       "      <th>price</th>\n",
       "      <th>early_access</th>\n",
       "      <th>id</th>\n",
       "      <th>developer</th>\n",
       "      <th>sentiment</th>\n",
       "      <th>metascore</th>\n",
       "    </tr>\n",
       "  </thead>\n",
       "  <tbody>\n",
       "    <tr>\n",
       "      <th>31856</th>\n",
       "      <td>Valve</td>\n",
       "      <td>[Action, Free to Play]</td>\n",
       "      <td>Team Fortress 2</td>\n",
       "      <td>Team Fortress 2</td>\n",
       "      <td>8084120</td>\n",
       "      <td>http://store.steampowered.com/app/440/Team_For...</td>\n",
       "      <td>2007-10-10</td>\n",
       "      <td>[Free to Play, Multiplayer, FPS, Action, Shoot...</td>\n",
       "      <td>NaN</td>\n",
       "      <td>http://steamcommunity.com/app/440/reviews/?bro...</td>\n",
       "      <td>[Multi-player, Cross-Platform Multiplayer, Ste...</td>\n",
       "      <td>Free to Play</td>\n",
       "      <td>False</td>\n",
       "      <td>440</td>\n",
       "      <td>Valve</td>\n",
       "      <td>Very Positive</td>\n",
       "      <td>92</td>\n",
       "    </tr>\n",
       "    <tr>\n",
       "      <th>29692</th>\n",
       "      <td>Facepunch Studios</td>\n",
       "      <td>[Action, Adventure, Indie, Massively Multiplay...</td>\n",
       "      <td>Rust</td>\n",
       "      <td>Rust</td>\n",
       "      <td>2580700290</td>\n",
       "      <td>http://store.steampowered.com/app/252490/Rust/</td>\n",
       "      <td>2013-12-11</td>\n",
       "      <td>[Early Access, Survival, Crafting, Multiplayer...</td>\n",
       "      <td>NaN</td>\n",
       "      <td>http://steamcommunity.com/app/252490/reviews/?...</td>\n",
       "      <td>[Multi-player, MMO, Cross-Platform Multiplayer...</td>\n",
       "      <td>19.99</td>\n",
       "      <td>True</td>\n",
       "      <td>252490</td>\n",
       "      <td>Facepunch Studios</td>\n",
       "      <td>Very Positive</td>\n",
       "      <td>NaN</td>\n",
       "    </tr>\n",
       "    <tr>\n",
       "      <th>30746</th>\n",
       "      <td>2K Games, Aspyr (Mac &amp;amp;amp; Linux)</td>\n",
       "      <td>[Action, RPG]</td>\n",
       "      <td>Borderlands 2</td>\n",
       "      <td>Borderlands 2</td>\n",
       "      <td>362535920</td>\n",
       "      <td>http://store.steampowered.com/app/49520/Border...</td>\n",
       "      <td>2012-09-17</td>\n",
       "      <td>[FPS, Co-op, Action, RPG, Loot, Shooter, Open ...</td>\n",
       "      <td>NaN</td>\n",
       "      <td>http://steamcommunity.com/app/49520/reviews/?b...</td>\n",
       "      <td>[Single-player, Co-op, Steam Achievements, Ful...</td>\n",
       "      <td>19.99</td>\n",
       "      <td>False</td>\n",
       "      <td>49520</td>\n",
       "      <td>Gearbox Software,Aspyr (Mac &amp;amp; Linux)</td>\n",
       "      <td>Overwhelmingly Positive</td>\n",
       "      <td>89</td>\n",
       "    </tr>\n",
       "  </tbody>\n",
       "</table>\n",
       "</div>"
      ],
      "text/plain": [
       "                                   publisher  \\\n",
       "31856                                  Valve   \n",
       "29692                      Facepunch Studios   \n",
       "30746  2K Games, Aspyr (Mac &amp;amp; Linux)   \n",
       "\n",
       "                                                  genres         app_name  \\\n",
       "31856                             [Action, Free to Play]  Team Fortress 2   \n",
       "29692  [Action, Adventure, Indie, Massively Multiplay...             Rust   \n",
       "30746                                      [Action, RPG]    Borderlands 2   \n",
       "\n",
       "                 title total_hours_played  \\\n",
       "31856  Team Fortress 2            8084120   \n",
       "29692             Rust         2580700290   \n",
       "30746    Borderlands 2          362535920   \n",
       "\n",
       "                                                     url release_date  \\\n",
       "31856  http://store.steampowered.com/app/440/Team_For...   2007-10-10   \n",
       "29692     http://store.steampowered.com/app/252490/Rust/   2013-12-11   \n",
       "30746  http://store.steampowered.com/app/49520/Border...   2012-09-17   \n",
       "\n",
       "                                                    tags discount_price  \\\n",
       "31856  [Free to Play, Multiplayer, FPS, Action, Shoot...            NaN   \n",
       "29692  [Early Access, Survival, Crafting, Multiplayer...            NaN   \n",
       "30746  [FPS, Co-op, Action, RPG, Loot, Shooter, Open ...            NaN   \n",
       "\n",
       "                                             reviews_url  \\\n",
       "31856  http://steamcommunity.com/app/440/reviews/?bro...   \n",
       "29692  http://steamcommunity.com/app/252490/reviews/?...   \n",
       "30746  http://steamcommunity.com/app/49520/reviews/?b...   \n",
       "\n",
       "                                                   specs         price  \\\n",
       "31856  [Multi-player, Cross-Platform Multiplayer, Ste...  Free to Play   \n",
       "29692  [Multi-player, MMO, Cross-Platform Multiplayer...         19.99   \n",
       "30746  [Single-player, Co-op, Steam Achievements, Ful...         19.99   \n",
       "\n",
       "      early_access      id                                 developer  \\\n",
       "31856        False     440                                     Valve   \n",
       "29692         True  252490                         Facepunch Studios   \n",
       "30746        False   49520  Gearbox Software,Aspyr (Mac &amp; Linux)   \n",
       "\n",
       "                     sentiment metascore  \n",
       "31856            Very Positive        92  \n",
       "29692            Very Positive       NaN  \n",
       "30746  Overwhelmingly Positive        89  "
      ]
     },
     "execution_count": 10,
     "metadata": {},
     "output_type": "execute_result"
    }
   ],
   "source": [
    "import time\n",
    "\n",
    "match = pd.DataFrame(columns=['publisher','genres','app_name','title','total_hours_played','url','release_date','tags','discount_price','reviews_url','specs','price','early_access','id','developer','sentiment','metascore']  )\n",
    "for i in range(0,100):\n",
    "    print(i, end=\"\\r\")\n",
    "    time.sleep(0.1)\n",
    "    match_id=data_reviews[data_reviews.hours > 5].product_id.value_counts().index[i]\n",
    "    match=match.append(data_games[data_games.id==match_id])\n",
    "    match['total_hours_played'].iloc[i]=data_reviews[data_reviews.product_id == str(match_id)].product_id.astype(int).sum()\n",
    "\n",
    "match.head(3)"
   ]
  },
  {
   "cell_type": "markdown",
   "metadata": {},
   "source": [
    "¿Cuántos usuarios únicos hay?"
   ]
  },
  {
   "cell_type": "code",
   "execution_count": 11,
   "metadata": {},
   "outputs": [
    {
     "data": {
      "text/plain": [
       "779307"
      ]
     },
     "execution_count": 11,
     "metadata": {},
     "output_type": "execute_result"
    }
   ],
   "source": [
    "len(data_reviews.user_id)"
   ]
  },
  {
   "cell_type": "markdown",
   "metadata": {},
   "source": [
    "¿Cuántos juegos calificó cada usuario?"
   ]
  },
  {
   "cell_type": "code",
   "execution_count": 12,
   "metadata": {},
   "outputs": [
    {
     "data": {
      "text/plain": [
       "123                     213\n",
       "Alex                    190\n",
       "Chris                   155\n",
       "Nick                    143\n",
       "Matt                    137\n",
       "                       ... \n",
       "Small Weiner CuckBoi      1\n",
       "Radiant Silvertuna        1\n",
       "i need dis                1\n",
       "Icarus [MAG]              1\n",
       "Wehomir                   1\n",
       "Name: username, Length: 540341, dtype: int64"
      ]
     },
     "execution_count": 12,
     "metadata": {},
     "output_type": "execute_result"
    }
   ],
   "source": [
    "data_reviews.username.value_counts()"
   ]
  },
  {
   "cell_type": "markdown",
   "metadata": {},
   "source": [
    "¿cuáles son los juegos más populares?"
   ]
  },
  {
   "cell_type": "code",
   "execution_count": 13,
   "metadata": {},
   "outputs": [
    {
     "name": "stdout",
     "output_type": "stream",
     "text": [
      "['Team Fortress 2']\n",
      "['Rust']\n",
      "['Borderlands 2']\n",
      "['Fallout 4']\n",
      "['Grand Theft Auto V']\n",
      "['Undertale']\n",
      "['Portal 2']\n",
      "['Warframe']\n",
      "['DayZ']\n"
     ]
    }
   ],
   "source": [
    "for i in range(0,9):\n",
    "    print(data_games[data_games.id==str(data_reviews.product_id.value_counts().index[i])].title.values)"
   ]
  },
  {
   "cell_type": "markdown",
   "metadata": {},
   "source": [
    "¿cuáles son los juegos menos populares"
   ]
  },
  {
   "cell_type": "code",
   "execution_count": 14,
   "metadata": {},
   "outputs": [
    {
     "name": "stdout",
     "output_type": "stream",
     "text": [
      "['Stick Nightmare']\n",
      "['I.F.O']\n",
      "['AutoTileGen']\n",
      "['Zombie Town']\n",
      "['Squareboy vs Bullies: Arena Edition']\n",
      "['Ball of Wonder']\n",
      "['Survival Is Not Enough']\n",
      "['Hacker Series']\n",
      "['Mercury: Cascade into Madness']\n"
     ]
    }
   ],
   "source": [
    "for i in range(0,9):\n",
    "    print(data_games[data_games.id==str(data_reviews.product_id.value_counts(ascending=True).index[i])].title.values)"
   ]
  },
  {
   "cell_type": "markdown",
   "metadata": {},
   "source": [
    "Eliminaremos los valores faltantes de user_id, product_id y metascore."
   ]
  },
  {
   "cell_type": "code",
   "execution_count": 15,
   "metadata": {},
   "outputs": [],
   "source": [
    "import numpy as np\n",
    "import pandas as pd\n",
    "import matplotlib.pyplot as plt\n",
    "import seaborn as sns"
   ]
  },
  {
   "cell_type": "markdown",
   "metadata": {},
   "source": [
    "¿Cuantos valores faltantes realmente existen en los features product_id, user_id y metascore?"
   ]
  },
  {
   "cell_type": "code",
   "execution_count": 16,
   "metadata": {},
   "outputs": [
    {
     "data": {
      "text/plain": [
       "0"
      ]
     },
     "execution_count": 16,
     "metadata": {},
     "output_type": "execute_result"
    }
   ],
   "source": [
    "data_reviews.product_id.isna().sum()"
   ]
  },
  {
   "cell_type": "code",
   "execution_count": 17,
   "metadata": {},
   "outputs": [
    {
     "data": {
      "text/plain": [
       "461967"
      ]
     },
     "execution_count": 17,
     "metadata": {},
     "output_type": "execute_result"
    }
   ],
   "source": [
    "data_reviews.user_id.isna().sum()"
   ]
  },
  {
   "cell_type": "code",
   "execution_count": 18,
   "metadata": {},
   "outputs": [
    {
     "data": {
      "text/plain": [
       "(317340, 12)"
      ]
     },
     "execution_count": 18,
     "metadata": {},
     "output_type": "execute_result"
    }
   ],
   "source": [
    "data_reviews.product_id = data_reviews.product_id.replace(['NA'],np.nan)\n",
    "data_reviews = data_reviews[~data_reviews.product_id.isna()]\n",
    "data_reviews = data_reviews[~data_reviews.user_id.isna()]\n",
    "data_reviews.shape"
   ]
  },
  {
   "cell_type": "markdown",
   "metadata": {},
   "source": [
    "¿Cuantas horas jugo cada usuario?"
   ]
  },
  {
   "cell_type": "code",
   "execution_count": 19,
   "metadata": {},
   "outputs": [
    {
     "data": {
      "text/plain": [
       "Text(0.5, 1.0, 'Horas totales que jugó cada usuario (Top 10)')"
      ]
     },
     "execution_count": 19,
     "metadata": {},
     "output_type": "execute_result"
    },
    {
     "data": {
      "image/png": "[encoded data removed]",
      "text/plain": [
       "<Figure size 1440x504 with 1 Axes>"
      ]
     },
     "metadata": {
      "needs_background": "light"
     },
     "output_type": "display_data"
    }
   ],
   "source": [
    "orden = data_reviews.groupby([\"username\"])['hours'].sum().reset_index().sort_values('hours', ascending=False)\n",
    "orden.reset_index(drop = True, inplace = True)\n",
    "\n",
    "plt.figure(figsize = (20,7))\n",
    "\n",
    "sns.barplot(x = orden.username[0:10], y = orden.hours[0:10])\n",
    "plt.xticks(rotation = 90)\n",
    "plt.xlabel(\"Usuario\", fontweight = \"black\", fontsize = 12)\n",
    "plt.ylabel(\"Horas jugadas\", fontweight = \"black\", fontsize = 12)\n",
    "plt.title(\"Horas totales que jugó cada usuario (Top 10)\", fontsize=18)"
   ]
  },
  {
   "cell_type": "markdown",
   "metadata": {},
   "source": [
    "¿Cómo es la distribución de las calificaciones y horas jugadas?"
   ]
  },
  {
   "cell_type": "code",
   "execution_count": 20,
   "metadata": {},
   "outputs": [
    {
     "data": {
      "text/plain": [
       "<matplotlib.axes._subplots.AxesSubplot at 0x1146efe77c8>"
      ]
     },
     "execution_count": 20,
     "metadata": {},
     "output_type": "execute_result"
    },
    {
     "data": {
      "image/png": "[encoded data removed]",
      "text/plain": [
       "<Figure size 720x576 with 1 Axes>"
      ]
     },
     "metadata": {
      "needs_background": "light"
     },
     "output_type": "display_data"
    }
   ],
   "source": [
    "plt.subplots(figsize=(10,8))\n",
    "sns.boxplot(x=match['total_hours_played'], orient= \"v\", palette=\"Spectral\")"
   ]
  },
  {
   "cell_type": "code",
   "execution_count": 21,
   "metadata": {},
   "outputs": [
    {
     "data": {
      "text/plain": [
       "<matplotlib.axes._subplots.AxesSubplot at 0x1146f1c0fc8>"
      ]
     },
     "execution_count": 21,
     "metadata": {},
     "output_type": "execute_result"
    },
    {
     "data": {
      "image/png": "[encoded data removed]",
      "text/plain": [
       "<Figure size 720x576 with 1 Axes>"
      ]
     },
     "metadata": {
      "needs_background": "light"
     },
     "output_type": "display_data"
    }
   ],
   "source": [
    "plt.subplots(figsize=(10,8))\n",
    "sns.boxplot(x=data_reviews[~data_reviews['hours'].isna()]['hours'], orient= \"v\", palette=\"Spectral\")"
   ]
  },
  {
   "cell_type": "markdown",
   "metadata": {},
   "source": [
    "Existen juegos y usuarios con cantidades de horas jugadas que pueden considerarse como outliers, las cuales eliminaremos."
   ]
  },
  {
   "cell_type": "code",
   "execution_count": 22,
   "metadata": {},
   "outputs": [
    {
     "name": "stdout",
     "output_type": "stream",
     "text": [
      "121.55963288839746 387.9906123717938 -1042.4122042269842 1285.5314700037788\n"
     ]
    }
   ],
   "source": [
    "valor_medio = data_reviews['hours'].mean()\n",
    "std = data_reviews['hours'].std()\n",
    "minimo = valor_medio - 3*std\n",
    "maximo = valor_medio + 3*std\n",
    "mascara_outliers = np.logical_or(data_reviews['hours'] < minimo, data_reviews['hours'] > maximo)\n",
    "print(valor_medio, std, minimo, maximo)"
   ]
  },
  {
   "cell_type": "code",
   "execution_count": 23,
   "metadata": {},
   "outputs": [
    {
     "data": {
      "text/plain": [
       "False    311858\n",
       "True       5482\n",
       "Name: hours, dtype: int64"
      ]
     },
     "execution_count": 23,
     "metadata": {},
     "output_type": "execute_result"
    }
   ],
   "source": [
    "mascara_outliers.value_counts()"
   ]
  },
  {
   "cell_type": "code",
   "execution_count": 24,
   "metadata": {},
   "outputs": [
    {
     "data": {
      "text/plain": [
       "count    311043.000000\n",
       "mean         82.391113\n",
       "std         173.468635\n",
       "min           0.000000\n",
       "25%           4.600000\n",
       "50%          17.800000\n",
       "75%          67.400000\n",
       "max        1285.400000\n",
       "Name: hours, dtype: float64"
      ]
     },
     "execution_count": 24,
     "metadata": {},
     "output_type": "execute_result"
    }
   ],
   "source": [
    "data_reviews = data_reviews[~mascara_outliers]\n",
    "data_reviews['hours'].describe()"
   ]
  },
  {
   "cell_type": "code",
   "execution_count": 25,
   "metadata": {},
   "outputs": [
    {
     "data": {
      "text/plain": [
       "<matplotlib.axes._subplots.AxesSubplot at 0x11471ccbb88>"
      ]
     },
     "execution_count": 25,
     "metadata": {},
     "output_type": "execute_result"
    },
    {
     "data": {
      "image/png": "[encoded data removed]",
      "text/plain": [
       "<Figure size 720x576 with 1 Axes>"
      ]
     },
     "metadata": {
      "needs_background": "light"
     },
     "output_type": "display_data"
    }
   ],
   "source": [
    "plt.subplots(figsize=(10,8))\n",
    "sns.boxplot(x=data_reviews[~data_reviews['hours'].isna()]['hours'], orient= \"v\", palette=\"Spectral\")"
   ]
  },
  {
   "cell_type": "markdown",
   "metadata": {},
   "source": [
    "Filtraremos los juegos jugados por más de 2 usuarios y por mas de 20 horas por usuario"
   ]
  },
  {
   "cell_type": "code",
   "execution_count": 26,
   "metadata": {},
   "outputs": [
    {
     "data": {
      "text/plain": [
       "<matplotlib.axes._subplots.AxesSubplot at 0x1146ee9f248>"
      ]
     },
     "execution_count": 26,
     "metadata": {},
     "output_type": "execute_result"
    },
    {
     "data": {
      "image/png": "[encoded data removed]",
      "text/plain": [
       "<Figure size 720x576 with 1 Axes>"
      ]
     },
     "metadata": {
      "needs_background": "light"
     },
     "output_type": "display_data"
    }
   ],
   "source": [
    "data_reviews = data_reviews[data_reviews['hours'] >= 20]\n",
    "plt.subplots(figsize=(10,8))\n",
    "sns.boxplot(x=data_reviews[~data_reviews['hours'].isna()]['hours'], orient= \"v\", palette=\"Spectral\")"
   ]
  },
  {
   "cell_type": "code",
   "execution_count": 27,
   "metadata": {},
   "outputs": [
    {
     "data": {
      "text/plain": [
       "76561197969749884    56\n",
       "76561198011965365    12\n",
       "76561198010131631    10\n",
       "76561197990406921     9\n",
       "76561197991657927     9\n",
       "                     ..\n",
       "76561198030760185     1\n",
       "76561198002637706     1\n",
       "76561198024998902     1\n",
       "76561198041156673     1\n",
       "76561198040724735     1\n",
       "Name: user_id, Length: 135197, dtype: int64"
      ]
     },
     "execution_count": 27,
     "metadata": {},
     "output_type": "execute_result"
    }
   ],
   "source": [
    "data_reviews.user_id.value_counts()"
   ]
  },
  {
   "cell_type": "markdown",
   "metadata": {},
   "source": [
    "Eliminaremos los juegos con menos de 2 reviews"
   ]
  },
  {
   "cell_type": "code",
   "execution_count": 28,
   "metadata": {},
   "outputs": [
    {
     "name": "stdout",
     "output_type": "stream",
     "text": [
      "(148172, 12)\n",
      "(23610, 12)\n"
     ]
    }
   ],
   "source": [
    "print(data_reviews.shape)\n",
    "data_reviews = data_reviews.groupby('user_id').filter(lambda x: len(x) >= 2)\n",
    "data_reviews.user_id.value_counts()\n",
    "print(data_reviews.shape)"
   ]
  },
  {
   "cell_type": "code",
   "execution_count": 29,
   "metadata": {},
   "outputs": [
    {
     "data": {
      "text/plain": [
       "<matplotlib.axes._subplots.AxesSubplot at 0x114723ea488>"
      ]
     },
     "execution_count": 29,
     "metadata": {},
     "output_type": "execute_result"
    },
    {
     "data": {
      "image/png": "[encoded data removed]",
      "text/plain": [
       "<Figure size 720x576 with 1 Axes>"
      ]
     },
     "metadata": {
      "needs_background": "light"
     },
     "output_type": "display_data"
    }
   ],
   "source": [
    "plt.subplots(figsize=(10,8))\n",
    "sns.boxplot(x=data_reviews[~data_reviews['hours'].isna()]['hours'], orient= \"v\", palette=\"Spectral\")"
   ]
  },
  {
   "cell_type": "markdown",
   "metadata": {},
   "source": [
    "¿Cuál es el juego con más reviews?"
   ]
  },
  {
   "cell_type": "code",
   "execution_count": 30,
   "metadata": {},
   "outputs": [
    {
     "data": {
      "text/plain": [
       "publisher                                                         Valve\n",
       "genres                                           [Action, Free to Play]\n",
       "app_name                                                Team Fortress 2\n",
       "title                                                   Team Fortress 2\n",
       "total_hours_played                                              8084120\n",
       "url                   http://store.steampowered.com/app/440/Team_For...\n",
       "release_date                                                 2007-10-10\n",
       "tags                  [Free to Play, Multiplayer, FPS, Action, Shoot...\n",
       "discount_price                                                      NaN\n",
       "reviews_url           http://steamcommunity.com/app/440/reviews/?bro...\n",
       "specs                 [Multi-player, Cross-Platform Multiplayer, Ste...\n",
       "price                                                      Free to Play\n",
       "early_access                                                      False\n",
       "id                                                                  440\n",
       "developer                                                         Valve\n",
       "sentiment                                                 Very Positive\n",
       "metascore                                                            92\n",
       "Name: 31856, dtype: object"
      ]
     },
     "execution_count": 30,
     "metadata": {},
     "output_type": "execute_result"
    }
   ],
   "source": [
    "match.iloc[0]"
   ]
  },
  {
   "cell_type": "markdown",
   "metadata": {},
   "source": [
    "Ordenamos los juegos por popularidad"
   ]
  },
  {
   "cell_type": "code",
   "execution_count": 31,
   "metadata": {},
   "outputs": [
    {
     "data": {
      "text/html": [
       "<div>\n",
       "<style scoped>\n",
       "    .dataframe tbody tr th:only-of-type {\n",
       "        vertical-align: middle;\n",
       "    }\n",
       "\n",
       "    .dataframe tbody tr th {\n",
       "        vertical-align: top;\n",
       "    }\n",
       "\n",
       "    .dataframe thead th {\n",
       "        text-align: right;\n",
       "    }\n",
       "</style>\n",
       "<table border=\"1\" class=\"dataframe\">\n",
       "  <thead>\n",
       "    <tr style=\"text-align: right;\">\n",
       "      <th></th>\n",
       "      <th>publisher</th>\n",
       "      <th>genres</th>\n",
       "      <th>app_name</th>\n",
       "      <th>title</th>\n",
       "      <th>total_hours_played</th>\n",
       "      <th>url</th>\n",
       "      <th>release_date</th>\n",
       "      <th>tags</th>\n",
       "      <th>discount_price</th>\n",
       "      <th>reviews_url</th>\n",
       "      <th>specs</th>\n",
       "      <th>price</th>\n",
       "      <th>early_access</th>\n",
       "      <th>id</th>\n",
       "      <th>developer</th>\n",
       "      <th>sentiment</th>\n",
       "      <th>metascore</th>\n",
       "    </tr>\n",
       "  </thead>\n",
       "  <tbody>\n",
       "    <tr>\n",
       "      <th>31856</th>\n",
       "      <td>Valve</td>\n",
       "      <td>[Action, Free to Play]</td>\n",
       "      <td>Team Fortress 2</td>\n",
       "      <td>Team Fortress 2</td>\n",
       "      <td>8084120</td>\n",
       "      <td>http://store.steampowered.com/app/440/Team_For...</td>\n",
       "      <td>2007-10-10</td>\n",
       "      <td>[Free to Play, Multiplayer, FPS, Action, Shoot...</td>\n",
       "      <td>NaN</td>\n",
       "      <td>http://steamcommunity.com/app/440/reviews/?bro...</td>\n",
       "      <td>[Multi-player, Cross-Platform Multiplayer, Ste...</td>\n",
       "      <td>Free to Play</td>\n",
       "      <td>False</td>\n",
       "      <td>440</td>\n",
       "      <td>Valve</td>\n",
       "      <td>Very Positive</td>\n",
       "      <td>92</td>\n",
       "    </tr>\n",
       "    <tr>\n",
       "      <th>29692</th>\n",
       "      <td>Facepunch Studios</td>\n",
       "      <td>[Action, Adventure, Indie, Massively Multiplay...</td>\n",
       "      <td>Rust</td>\n",
       "      <td>Rust</td>\n",
       "      <td>2580700290</td>\n",
       "      <td>http://store.steampowered.com/app/252490/Rust/</td>\n",
       "      <td>2013-12-11</td>\n",
       "      <td>[Early Access, Survival, Crafting, Multiplayer...</td>\n",
       "      <td>NaN</td>\n",
       "      <td>http://steamcommunity.com/app/252490/reviews/?...</td>\n",
       "      <td>[Multi-player, MMO, Cross-Platform Multiplayer...</td>\n",
       "      <td>19.99</td>\n",
       "      <td>True</td>\n",
       "      <td>252490</td>\n",
       "      <td>Facepunch Studios</td>\n",
       "      <td>Very Positive</td>\n",
       "      <td>NaN</td>\n",
       "    </tr>\n",
       "    <tr>\n",
       "      <th>30746</th>\n",
       "      <td>2K Games, Aspyr (Mac &amp;amp;amp; Linux)</td>\n",
       "      <td>[Action, RPG]</td>\n",
       "      <td>Borderlands 2</td>\n",
       "      <td>Borderlands 2</td>\n",
       "      <td>362535920</td>\n",
       "      <td>http://store.steampowered.com/app/49520/Border...</td>\n",
       "      <td>2012-09-17</td>\n",
       "      <td>[FPS, Co-op, Action, RPG, Loot, Shooter, Open ...</td>\n",
       "      <td>NaN</td>\n",
       "      <td>http://steamcommunity.com/app/49520/reviews/?b...</td>\n",
       "      <td>[Single-player, Co-op, Steam Achievements, Ful...</td>\n",
       "      <td>19.99</td>\n",
       "      <td>False</td>\n",
       "      <td>49520</td>\n",
       "      <td>Gearbox Software,Aspyr (Mac &amp;amp; Linux)</td>\n",
       "      <td>Overwhelmingly Positive</td>\n",
       "      <td>89</td>\n",
       "    </tr>\n",
       "    <tr>\n",
       "      <th>25017</th>\n",
       "      <td>Bethesda Softworks</td>\n",
       "      <td>[RPG]</td>\n",
       "      <td>Fallout 4</td>\n",
       "      <td>Fallout 4</td>\n",
       "      <td>2682739080</td>\n",
       "      <td>http://store.steampowered.com/app/377160/Fallo...</td>\n",
       "      <td>2015-11-09</td>\n",
       "      <td>[Open World, Post-apocalyptic, Exploration, Si...</td>\n",
       "      <td>NaN</td>\n",
       "      <td>http://steamcommunity.com/app/377160/reviews/?...</td>\n",
       "      <td>[Single-player, Steam Achievements, Full contr...</td>\n",
       "      <td>29.99</td>\n",
       "      <td>False</td>\n",
       "      <td>377160</td>\n",
       "      <td>Bethesda Game Studios</td>\n",
       "      <td>Mixed</td>\n",
       "      <td>84</td>\n",
       "    </tr>\n",
       "    <tr>\n",
       "      <th>26955</th>\n",
       "      <td>Rockstar Games</td>\n",
       "      <td>[Action, Adventure]</td>\n",
       "      <td>Grand Theft Auto V</td>\n",
       "      <td>Grand Theft Auto V</td>\n",
       "      <td>1623021840</td>\n",
       "      <td>http://store.steampowered.com/app/271590/Grand...</td>\n",
       "      <td>2015-04-14</td>\n",
       "      <td>[Open World, Action, Multiplayer, First-Person...</td>\n",
       "      <td>NaN</td>\n",
       "      <td>http://steamcommunity.com/app/271590/reviews/?...</td>\n",
       "      <td>[Single-player, Multi-player, Steam Achievemen...</td>\n",
       "      <td>39.99</td>\n",
       "      <td>False</td>\n",
       "      <td>271590</td>\n",
       "      <td>Rockstar North</td>\n",
       "      <td>Mixed</td>\n",
       "      <td>96</td>\n",
       "    </tr>\n",
       "  </tbody>\n",
       "</table>\n",
       "</div>"
      ],
      "text/plain": [
       "                                   publisher  \\\n",
       "31856                                  Valve   \n",
       "29692                      Facepunch Studios   \n",
       "30746  2K Games, Aspyr (Mac &amp;amp; Linux)   \n",
       "25017                     Bethesda Softworks   \n",
       "26955                         Rockstar Games   \n",
       "\n",
       "                                                  genres            app_name  \\\n",
       "31856                             [Action, Free to Play]     Team Fortress 2   \n",
       "29692  [Action, Adventure, Indie, Massively Multiplay...                Rust   \n",
       "30746                                      [Action, RPG]       Borderlands 2   \n",
       "25017                                              [RPG]           Fallout 4   \n",
       "26955                                [Action, Adventure]  Grand Theft Auto V   \n",
       "\n",
       "                    title total_hours_played  \\\n",
       "31856     Team Fortress 2            8084120   \n",
       "29692                Rust         2580700290   \n",
       "30746       Borderlands 2          362535920   \n",
       "25017           Fallout 4         2682739080   \n",
       "26955  Grand Theft Auto V         1623021840   \n",
       "\n",
       "                                                     url release_date  \\\n",
       "31856  http://store.steampowered.com/app/440/Team_For...   2007-10-10   \n",
       "29692     http://store.steampowered.com/app/252490/Rust/   2013-12-11   \n",
       "30746  http://store.steampowered.com/app/49520/Border...   2012-09-17   \n",
       "25017  http://store.steampowered.com/app/377160/Fallo...   2015-11-09   \n",
       "26955  http://store.steampowered.com/app/271590/Grand...   2015-04-14   \n",
       "\n",
       "                                                    tags discount_price  \\\n",
       "31856  [Free to Play, Multiplayer, FPS, Action, Shoot...            NaN   \n",
       "29692  [Early Access, Survival, Crafting, Multiplayer...            NaN   \n",
       "30746  [FPS, Co-op, Action, RPG, Loot, Shooter, Open ...            NaN   \n",
       "25017  [Open World, Post-apocalyptic, Exploration, Si...            NaN   \n",
       "26955  [Open World, Action, Multiplayer, First-Person...            NaN   \n",
       "\n",
       "                                             reviews_url  \\\n",
       "31856  http://steamcommunity.com/app/440/reviews/?bro...   \n",
       "29692  http://steamcommunity.com/app/252490/reviews/?...   \n",
       "30746  http://steamcommunity.com/app/49520/reviews/?b...   \n",
       "25017  http://steamcommunity.com/app/377160/reviews/?...   \n",
       "26955  http://steamcommunity.com/app/271590/reviews/?...   \n",
       "\n",
       "                                                   specs         price  \\\n",
       "31856  [Multi-player, Cross-Platform Multiplayer, Ste...  Free to Play   \n",
       "29692  [Multi-player, MMO, Cross-Platform Multiplayer...         19.99   \n",
       "30746  [Single-player, Co-op, Steam Achievements, Ful...         19.99   \n",
       "25017  [Single-player, Steam Achievements, Full contr...         29.99   \n",
       "26955  [Single-player, Multi-player, Steam Achievemen...         39.99   \n",
       "\n",
       "      early_access      id                                 developer  \\\n",
       "31856        False     440                                     Valve   \n",
       "29692         True  252490                         Facepunch Studios   \n",
       "30746        False   49520  Gearbox Software,Aspyr (Mac &amp; Linux)   \n",
       "25017        False  377160                     Bethesda Game Studios   \n",
       "26955        False  271590                            Rockstar North   \n",
       "\n",
       "                     sentiment metascore  \n",
       "31856            Very Positive        92  \n",
       "29692            Very Positive       NaN  \n",
       "30746  Overwhelmingly Positive        89  \n",
       "25017                    Mixed        84  \n",
       "26955                    Mixed        96  "
      ]
     },
     "execution_count": 31,
     "metadata": {},
     "output_type": "execute_result"
    }
   ],
   "source": [
    "match.head()"
   ]
  },
  {
   "cell_type": "code",
   "execution_count": 32,
   "metadata": {},
   "outputs": [
    {
     "data": {
      "text/plain": [
       "84.0    1504\n",
       "81.0    1064\n",
       "88.0    1018\n",
       "89.0    1011\n",
       "83.0     903\n",
       "92.0     854\n",
       "78.0     839\n",
       "79.0     641\n",
       "74.0     615\n",
       "76.0     540\n",
       "80.0     540\n",
       "82.0     527\n",
       "77.0     513\n",
       "86.0     509\n",
       "85.0     481\n",
       "87.0     475\n",
       "70.0     404\n",
       "96.0     387\n",
       "90.0     364\n",
       "69.0     364\n",
       "75.0     360\n",
       "73.0     350\n",
       "91.0     301\n",
       "68.0     251\n",
       "72.0     224\n",
       "95.0     146\n",
       "94.0     143\n",
       "62.0     134\n",
       "93.0     130\n",
       "63.0     129\n",
       "71.0     112\n",
       "61.0     104\n",
       "66.0      89\n",
       "64.0      88\n",
       "67.0      83\n",
       "65.0      79\n",
       "54.0      30\n",
       "33.0      24\n",
       "53.0      22\n",
       "58.0      21\n",
       "57.0      21\n",
       "59.0      20\n",
       "51.0      14\n",
       "60.0      14\n",
       "55.0      12\n",
       "49.0      12\n",
       "43.0      10\n",
       "56.0      10\n",
       "52.0       7\n",
       "44.0       6\n",
       "45.0       4\n",
       "48.0       4\n",
       "47.0       3\n",
       "46.0       2\n",
       "41.0       1\n",
       "40.0       1\n",
       "Name: metascore, dtype: int64"
      ]
     },
     "execution_count": 32,
     "metadata": {},
     "output_type": "execute_result"
    }
   ],
   "source": [
    "data_games = data_games.rename(columns={'id':'product_id'})\n",
    "data_reviews = data_reviews.merge(data_games, on='product_id', how='left')\n",
    "\n",
    "data_reviews.metascore = data_reviews.metascore.replace(['NA'],np.nan)\n",
    "data_reviews.metascore = data_reviews.metascore.astype(np.float32)\n",
    "data_reviews.product_id = data_reviews.product_id.astype(int) \n",
    "\n",
    "data_reviews.metascore.value_counts()"
   ]
  },
  {
   "cell_type": "code",
   "execution_count": 33,
   "metadata": {},
   "outputs": [
    {
     "name": "stdout",
     "output_type": "stream",
     "text": [
      "(23625, 27)\n",
      "(16514, 27)\n"
     ]
    }
   ],
   "source": [
    "print(data_reviews.shape)\n",
    "data_reviews = data_reviews[~data_reviews.metascore.isna()]\n",
    "print(data_reviews.shape)"
   ]
  },
  {
   "cell_type": "code",
   "execution_count": 34,
   "metadata": {},
   "outputs": [
    {
     "data": {
      "text/plain": [
       "<matplotlib.axes._subplots.AxesSubplot at 0x114715a27c8>"
      ]
     },
     "execution_count": 34,
     "metadata": {},
     "output_type": "execute_result"
    },
    {
     "data": {
      "image/png": "[encoded data removed]",
      "text/plain": [
       "<Figure size 1080x576 with 1 Axes>"
      ]
     },
     "metadata": {
      "needs_background": "light"
     },
     "output_type": "display_data"
    }
   ],
   "source": [
    "plt.subplots(figsize=(15,8))\n",
    "sns.distplot(data_reviews.metascore.astype(int).values, color=\"y\")"
   ]
  },
  {
   "cell_type": "code",
   "execution_count": 35,
   "metadata": {},
   "outputs": [
    {
     "data": {
      "text/html": [
       "<div>\n",
       "<style scoped>\n",
       "    .dataframe tbody tr th:only-of-type {\n",
       "        vertical-align: middle;\n",
       "    }\n",
       "\n",
       "    .dataframe tbody tr th {\n",
       "        vertical-align: top;\n",
       "    }\n",
       "\n",
       "    .dataframe thead th {\n",
       "        text-align: right;\n",
       "    }\n",
       "</style>\n",
       "<table border=\"1\" class=\"dataframe\">\n",
       "  <thead>\n",
       "    <tr style=\"text-align: right;\">\n",
       "      <th></th>\n",
       "      <th>username</th>\n",
       "      <th>hours</th>\n",
       "      <th>product_id</th>\n",
       "      <th>user_id</th>\n",
       "      <th>genres</th>\n",
       "      <th>title</th>\n",
       "      <th>price</th>\n",
       "      <th>metascore</th>\n",
       "    </tr>\n",
       "  </thead>\n",
       "  <tbody>\n",
       "    <tr>\n",
       "      <th>1</th>\n",
       "      <td>FireBolt</td>\n",
       "      <td>58.1</td>\n",
       "      <td>271590</td>\n",
       "      <td>76561198218134795</td>\n",
       "      <td>[Action, Adventure]</td>\n",
       "      <td>Grand Theft Auto V</td>\n",
       "      <td>39.99</td>\n",
       "      <td>96.0</td>\n",
       "    </tr>\n",
       "    <tr>\n",
       "      <th>2</th>\n",
       "      <td>Emperor Palpatine</td>\n",
       "      <td>40.7</td>\n",
       "      <td>271590</td>\n",
       "      <td>76561198048098140</td>\n",
       "      <td>[Action, Adventure]</td>\n",
       "      <td>Grand Theft Auto V</td>\n",
       "      <td>39.99</td>\n",
       "      <td>96.0</td>\n",
       "    </tr>\n",
       "  </tbody>\n",
       "</table>\n",
       "</div>"
      ],
      "text/plain": [
       "            username  hours  product_id            user_id  \\\n",
       "1           FireBolt   58.1      271590  76561198218134795   \n",
       "2  Emperor Palpatine   40.7      271590  76561198048098140   \n",
       "\n",
       "                genres               title  price  metascore  \n",
       "1  [Action, Adventure]  Grand Theft Auto V  39.99       96.0  \n",
       "2  [Action, Adventure]  Grand Theft Auto V  39.99       96.0  "
      ]
     },
     "execution_count": 35,
     "metadata": {},
     "output_type": "execute_result"
    }
   ],
   "source": [
    "data_reviews = data_reviews.drop(columns=['products','page_order','date','text','early_access_x','page','found_funny','compensation','publisher','app_name','url','release_date','tags','discount_price','reviews_url','specs','early_access_y','developer','sentiment'])\n",
    "data_reviews.head(2)"
   ]
  },
  {
   "cell_type": "code",
   "execution_count": 36,
   "metadata": {},
   "outputs": [],
   "source": [
    "data_games = data_games[~data_games.product_id.isna()]\n",
    "data_games.product_id = data_games.product_id.astype(int)"
   ]
  },
  {
   "cell_type": "markdown",
   "metadata": {},
   "source": [
    "## Entrenamiento de modelos de sistema de recomendación"
   ]
  },
  {
   "cell_type": "markdown",
   "metadata": {},
   "source": [
    "Eligiremos como target el feature metascore.\n",
    "Metascore: Es la puntuación que tiene el juego según una página externa llamada Metacritic."
   ]
  },
  {
   "cell_type": "code",
   "execution_count": 37,
   "metadata": {},
   "outputs": [
    {
     "data": {
      "text/html": [
       "<div>\n",
       "<style scoped>\n",
       "    .dataframe tbody tr th:only-of-type {\n",
       "        vertical-align: middle;\n",
       "    }\n",
       "\n",
       "    .dataframe tbody tr th {\n",
       "        vertical-align: top;\n",
       "    }\n",
       "\n",
       "    .dataframe thead th {\n",
       "        text-align: right;\n",
       "    }\n",
       "</style>\n",
       "<table border=\"1\" class=\"dataframe\">\n",
       "  <thead>\n",
       "    <tr style=\"text-align: right;\">\n",
       "      <th></th>\n",
       "      <th>username</th>\n",
       "      <th>hours</th>\n",
       "      <th>product_id</th>\n",
       "      <th>user_id</th>\n",
       "    </tr>\n",
       "  </thead>\n",
       "  <tbody>\n",
       "    <tr>\n",
       "      <th>1</th>\n",
       "      <td>FireBolt</td>\n",
       "      <td>58.1</td>\n",
       "      <td>271590</td>\n",
       "      <td>76561198218134795</td>\n",
       "    </tr>\n",
       "    <tr>\n",
       "      <th>2</th>\n",
       "      <td>Emperor Palpatine</td>\n",
       "      <td>40.7</td>\n",
       "      <td>271590</td>\n",
       "      <td>76561198048098140</td>\n",
       "    </tr>\n",
       "  </tbody>\n",
       "</table>\n",
       "</div>"
      ],
      "text/plain": [
       "            username  hours  product_id            user_id\n",
       "1           FireBolt   58.1      271590  76561198218134795\n",
       "2  Emperor Palpatine   40.7      271590  76561198048098140"
      ]
     },
     "execution_count": 37,
     "metadata": {},
     "output_type": "execute_result"
    }
   ],
   "source": [
    "from surprise import Dataset\n",
    "from surprise import Reader\n",
    "from surprise.model_selection import train_test_split\n",
    "from surprise import accuracy\n",
    "from surprise import KNNBasic,  KNNWithMeans, KNNBaseline\n",
    "from surprise.model_selection import KFold\n",
    "from surprise import NormalPredictor\n",
    "from surprise.model_selection import cross_validate\n",
    "from surprise.model_selection import GridSearchCV\n",
    "\n",
    "\n",
    "reader = Reader(rating_scale=(1, 100))\n",
    "\n",
    "df1 = data_reviews.copy()\n",
    "df1 = df1.drop(['metascore','genres','title','title','price'], axis=1)\n",
    "df1.head(2)"
   ]
  },
  {
   "cell_type": "code",
   "execution_count": 38,
   "metadata": {},
   "outputs": [
    {
     "data": {
      "text/html": [
       "<div>\n",
       "<style scoped>\n",
       "    .dataframe tbody tr th:only-of-type {\n",
       "        vertical-align: middle;\n",
       "    }\n",
       "\n",
       "    .dataframe tbody tr th {\n",
       "        vertical-align: top;\n",
       "    }\n",
       "\n",
       "    .dataframe thead th {\n",
       "        text-align: right;\n",
       "    }\n",
       "</style>\n",
       "<table border=\"1\" class=\"dataframe\">\n",
       "  <thead>\n",
       "    <tr style=\"text-align: right;\">\n",
       "      <th></th>\n",
       "      <th>username</th>\n",
       "      <th>hours</th>\n",
       "      <th>product_id</th>\n",
       "      <th>user_id</th>\n",
       "      <th>publisher</th>\n",
       "      <th>genres</th>\n",
       "      <th>app_name</th>\n",
       "      <th>title</th>\n",
       "      <th>url</th>\n",
       "      <th>release_date</th>\n",
       "      <th>tags</th>\n",
       "      <th>discount_price</th>\n",
       "      <th>reviews_url</th>\n",
       "      <th>specs</th>\n",
       "      <th>price</th>\n",
       "      <th>early_access</th>\n",
       "      <th>developer</th>\n",
       "      <th>sentiment</th>\n",
       "      <th>metascore</th>\n",
       "    </tr>\n",
       "  </thead>\n",
       "  <tbody>\n",
       "    <tr>\n",
       "      <th>0</th>\n",
       "      <td>FireBolt</td>\n",
       "      <td>58.1</td>\n",
       "      <td>271590</td>\n",
       "      <td>76561198218134795</td>\n",
       "      <td>Rockstar Games</td>\n",
       "      <td>[Action, Adventure]</td>\n",
       "      <td>Grand Theft Auto V</td>\n",
       "      <td>Grand Theft Auto V</td>\n",
       "      <td>http://store.steampowered.com/app/271590/Grand...</td>\n",
       "      <td>2015-04-14</td>\n",
       "      <td>[Open World, Action, Multiplayer, First-Person...</td>\n",
       "      <td>NaN</td>\n",
       "      <td>http://steamcommunity.com/app/271590/reviews/?...</td>\n",
       "      <td>[Single-player, Multi-player, Steam Achievemen...</td>\n",
       "      <td>39.99</td>\n",
       "      <td>False</td>\n",
       "      <td>Rockstar North</td>\n",
       "      <td>Mixed</td>\n",
       "      <td>96</td>\n",
       "    </tr>\n",
       "    <tr>\n",
       "      <th>1</th>\n",
       "      <td>Emperor Palpatine</td>\n",
       "      <td>40.7</td>\n",
       "      <td>271590</td>\n",
       "      <td>76561198048098140</td>\n",
       "      <td>Rockstar Games</td>\n",
       "      <td>[Action, Adventure]</td>\n",
       "      <td>Grand Theft Auto V</td>\n",
       "      <td>Grand Theft Auto V</td>\n",
       "      <td>http://store.steampowered.com/app/271590/Grand...</td>\n",
       "      <td>2015-04-14</td>\n",
       "      <td>[Open World, Action, Multiplayer, First-Person...</td>\n",
       "      <td>NaN</td>\n",
       "      <td>http://steamcommunity.com/app/271590/reviews/?...</td>\n",
       "      <td>[Single-player, Multi-player, Steam Achievemen...</td>\n",
       "      <td>39.99</td>\n",
       "      <td>False</td>\n",
       "      <td>Rockstar North</td>\n",
       "      <td>Mixed</td>\n",
       "      <td>96</td>\n",
       "    </tr>\n",
       "  </tbody>\n",
       "</table>\n",
       "</div>"
      ],
      "text/plain": [
       "            username  hours  product_id            user_id       publisher  \\\n",
       "0           FireBolt   58.1      271590  76561198218134795  Rockstar Games   \n",
       "1  Emperor Palpatine   40.7      271590  76561198048098140  Rockstar Games   \n",
       "\n",
       "                genres            app_name               title  \\\n",
       "0  [Action, Adventure]  Grand Theft Auto V  Grand Theft Auto V   \n",
       "1  [Action, Adventure]  Grand Theft Auto V  Grand Theft Auto V   \n",
       "\n",
       "                                                 url release_date  \\\n",
       "0  http://store.steampowered.com/app/271590/Grand...   2015-04-14   \n",
       "1  http://store.steampowered.com/app/271590/Grand...   2015-04-14   \n",
       "\n",
       "                                                tags  discount_price  \\\n",
       "0  [Open World, Action, Multiplayer, First-Person...             NaN   \n",
       "1  [Open World, Action, Multiplayer, First-Person...             NaN   \n",
       "\n",
       "                                         reviews_url  \\\n",
       "0  http://steamcommunity.com/app/271590/reviews/?...   \n",
       "1  http://steamcommunity.com/app/271590/reviews/?...   \n",
       "\n",
       "                                               specs  price  early_access  \\\n",
       "0  [Single-player, Multi-player, Steam Achievemen...  39.99         False   \n",
       "1  [Single-player, Multi-player, Steam Achievemen...  39.99         False   \n",
       "\n",
       "        developer sentiment metascore  \n",
       "0  Rockstar North     Mixed        96  \n",
       "1  Rockstar North     Mixed        96  "
      ]
     },
     "execution_count": 38,
     "metadata": {},
     "output_type": "execute_result"
    }
   ],
   "source": [
    "data_games_train = data_games.copy()\n",
    "df1= pd.merge(df1, data_games_train, on='product_id', how='inner')\n",
    "df1['user_id'] = df1['user_id'].dropna()\n",
    "df1 = df1[~df1['user_id'].isnull()]\n",
    "df1 = df1[df1['metascore']!='NA']\n",
    "df1.head(2)"
   ]
  },
  {
   "cell_type": "code",
   "execution_count": 39,
   "metadata": {},
   "outputs": [
    {
     "data": {
      "text/plain": [
       "<surprise.dataset.DatasetAutoFolds at 0x114781b6548>"
      ]
     },
     "execution_count": 39,
     "metadata": {},
     "output_type": "execute_result"
    }
   ],
   "source": [
    "data = Dataset.load_from_df(df1[['user_id', 'product_id', 'metascore']], reader)\n",
    "data"
   ]
  },
  {
   "cell_type": "code",
   "execution_count": 40,
   "metadata": {},
   "outputs": [
    {
     "name": "stdout",
     "output_type": "stream",
     "text": [
      "<surprise.trainset.Trainset object at 0x0000011474F63348>\n"
     ]
    }
   ],
   "source": [
    "trainset, testset = train_test_split(data, test_size=.25)\n",
    "print(trainset)"
   ]
  },
  {
   "cell_type": "markdown",
   "metadata": {},
   "source": [
    "## Benchmark (SVD)"
   ]
  },
  {
   "cell_type": "code",
   "execution_count": 41,
   "metadata": {},
   "outputs": [
    {
     "data": {
      "text/plain": [
       "<surprise.prediction_algorithms.matrix_factorization.SVD at 0x1147d52ad08>"
      ]
     },
     "execution_count": 41,
     "metadata": {},
     "output_type": "execute_result"
    }
   ],
   "source": [
    "from surprise import SVD\n",
    "algo = SVD()\n",
    "algo.fit(trainset)"
   ]
  },
  {
   "cell_type": "code",
   "execution_count": 42,
   "metadata": {},
   "outputs": [
    {
     "data": {
      "text/plain": [
       "Prediction(uid='76561198020469084', iid=221040, r_ui=69.0, est=73.62660524178284, details={'was_impossible': False})"
      ]
     },
     "execution_count": 42,
     "metadata": {},
     "output_type": "execute_result"
    }
   ],
   "source": [
    "predictions = algo.test(testset)\n",
    "predictions[0]"
   ]
  },
  {
   "cell_type": "code",
   "execution_count": 43,
   "metadata": {},
   "outputs": [
    {
     "data": {
      "text/html": [
       "<div>\n",
       "<style scoped>\n",
       "    .dataframe tbody tr th:only-of-type {\n",
       "        vertical-align: middle;\n",
       "    }\n",
       "\n",
       "    .dataframe tbody tr th {\n",
       "        vertical-align: top;\n",
       "    }\n",
       "\n",
       "    .dataframe thead th {\n",
       "        text-align: right;\n",
       "    }\n",
       "</style>\n",
       "<table border=\"1\" class=\"dataframe\">\n",
       "  <thead>\n",
       "    <tr style=\"text-align: right;\">\n",
       "      <th></th>\n",
       "      <th>user_id</th>\n",
       "      <th>product_id</th>\n",
       "      <th>hours</th>\n",
       "    </tr>\n",
       "  </thead>\n",
       "  <tbody>\n",
       "    <tr>\n",
       "      <th>1756</th>\n",
       "      <td>76561198135446411</td>\n",
       "      <td>38410</td>\n",
       "      <td>276.2</td>\n",
       "    </tr>\n",
       "  </tbody>\n",
       "</table>\n",
       "</div>"
      ],
      "text/plain": [
       "                user_id  product_id  hours\n",
       "1756  76561198135446411       38410  276.2"
      ]
     },
     "execution_count": 43,
     "metadata": {},
     "output_type": "execute_result"
    }
   ],
   "source": [
    "df1[['user_id', 'product_id', 'hours']][df1['user_id']=='76561198135446411']"
   ]
  },
  {
   "cell_type": "markdown",
   "metadata": {},
   "source": [
    "Usuarios con mayor cantidad de reviews"
   ]
  },
  {
   "cell_type": "code",
   "execution_count": 44,
   "metadata": {},
   "outputs": [
    {
     "data": {
      "text/plain": [
       "76561197969749884    38\n",
       "76561198010131631     8\n",
       "76561198053649856     8\n",
       "76561198012071265     8\n",
       "76561197991657927     8\n",
       "                     ..\n",
       "76561197973300271     1\n",
       "76561198093197648     1\n",
       "76561198017902285     1\n",
       "76561198094462864     1\n",
       "76561198103638115     1\n",
       "Name: user_id, Length: 9164, dtype: int64"
      ]
     },
     "execution_count": 44,
     "metadata": {},
     "output_type": "execute_result"
    }
   ],
   "source": [
    "data_reviews.user_id.value_counts()"
   ]
  },
  {
   "cell_type": "code",
   "execution_count": 45,
   "metadata": {},
   "outputs": [
    {
     "data": {
      "text/html": [
       "<div>\n",
       "<style scoped>\n",
       "    .dataframe tbody tr th:only-of-type {\n",
       "        vertical-align: middle;\n",
       "    }\n",
       "\n",
       "    .dataframe tbody tr th {\n",
       "        vertical-align: top;\n",
       "    }\n",
       "\n",
       "    .dataframe thead th {\n",
       "        text-align: right;\n",
       "    }\n",
       "</style>\n",
       "<table border=\"1\" class=\"dataframe\">\n",
       "  <thead>\n",
       "    <tr style=\"text-align: right;\">\n",
       "      <th></th>\n",
       "      <th>username</th>\n",
       "      <th>hours</th>\n",
       "      <th>product_id</th>\n",
       "      <th>user_id</th>\n",
       "      <th>genres</th>\n",
       "      <th>title</th>\n",
       "      <th>price</th>\n",
       "      <th>metascore</th>\n",
       "    </tr>\n",
       "  </thead>\n",
       "  <tbody>\n",
       "    <tr>\n",
       "      <th>1545</th>\n",
       "      <td>Sarkoth</td>\n",
       "      <td>733.2</td>\n",
       "      <td>203750</td>\n",
       "      <td>76561197969749884</td>\n",
       "      <td>[Action]</td>\n",
       "      <td>Binary Domain</td>\n",
       "      <td>14.99</td>\n",
       "      <td>68.0</td>\n",
       "    </tr>\n",
       "    <tr>\n",
       "      <th>2134</th>\n",
       "      <td>Sarkoth</td>\n",
       "      <td>30.7</td>\n",
       "      <td>3990</td>\n",
       "      <td>76561197969749884</td>\n",
       "      <td>[Strategy]</td>\n",
       "      <td>Civilization IV®: Warlords</td>\n",
       "      <td>4.99</td>\n",
       "      <td>84.0</td>\n",
       "    </tr>\n",
       "    <tr>\n",
       "      <th>2146</th>\n",
       "      <td>Sarkoth</td>\n",
       "      <td>48.0</td>\n",
       "      <td>99300</td>\n",
       "      <td>76561197969749884</td>\n",
       "      <td>[Action]</td>\n",
       "      <td>Renegade Ops</td>\n",
       "      <td>15</td>\n",
       "      <td>76.0</td>\n",
       "    </tr>\n",
       "    <tr>\n",
       "      <th>2727</th>\n",
       "      <td>Sarkoth</td>\n",
       "      <td>51.1</td>\n",
       "      <td>214150</td>\n",
       "      <td>76561197969749884</td>\n",
       "      <td>[Strategy]</td>\n",
       "      <td>Galactic Civilizations® I: Ultimate Edition</td>\n",
       "      <td>9.99</td>\n",
       "      <td>83.0</td>\n",
       "    </tr>\n",
       "    <tr>\n",
       "      <th>3975</th>\n",
       "      <td>Sarkoth</td>\n",
       "      <td>46.8</td>\n",
       "      <td>34010</td>\n",
       "      <td>76561197969749884</td>\n",
       "      <td>[Action, RPG]</td>\n",
       "      <td>Alpha Protocol™</td>\n",
       "      <td>14.99</td>\n",
       "      <td>72.0</td>\n",
       "    </tr>\n",
       "  </tbody>\n",
       "</table>\n",
       "</div>"
      ],
      "text/plain": [
       "     username  hours  product_id            user_id         genres  \\\n",
       "1545  Sarkoth  733.2      203750  76561197969749884       [Action]   \n",
       "2134  Sarkoth   30.7        3990  76561197969749884     [Strategy]   \n",
       "2146  Sarkoth   48.0       99300  76561197969749884       [Action]   \n",
       "2727  Sarkoth   51.1      214150  76561197969749884     [Strategy]   \n",
       "3975  Sarkoth   46.8       34010  76561197969749884  [Action, RPG]   \n",
       "\n",
       "                                            title  price  metascore  \n",
       "1545                                Binary Domain  14.99       68.0  \n",
       "2134                   Civilization IV®: Warlords   4.99       84.0  \n",
       "2146                                 Renegade Ops     15       76.0  \n",
       "2727  Galactic Civilizations® I: Ultimate Edition   9.99       83.0  \n",
       "3975                              Alpha Protocol™  14.99       72.0  "
      ]
     },
     "execution_count": 45,
     "metadata": {},
     "output_type": "execute_result"
    }
   ],
   "source": [
    "data_reviews[data_reviews.user_id=='76561197969749884'].head(5)"
   ]
  },
  {
   "cell_type": "code",
   "execution_count": 46,
   "metadata": {},
   "outputs": [
    {
     "data": {
      "text/html": [
       "<div>\n",
       "<style scoped>\n",
       "    .dataframe tbody tr th:only-of-type {\n",
       "        vertical-align: middle;\n",
       "    }\n",
       "\n",
       "    .dataframe tbody tr th {\n",
       "        vertical-align: top;\n",
       "    }\n",
       "\n",
       "    .dataframe thead th {\n",
       "        text-align: right;\n",
       "    }\n",
       "</style>\n",
       "<table border=\"1\" class=\"dataframe\">\n",
       "  <thead>\n",
       "    <tr style=\"text-align: right;\">\n",
       "      <th></th>\n",
       "      <th>publisher</th>\n",
       "      <th>genres</th>\n",
       "      <th>app_name</th>\n",
       "      <th>title</th>\n",
       "      <th>url</th>\n",
       "      <th>release_date</th>\n",
       "      <th>tags</th>\n",
       "      <th>discount_price</th>\n",
       "      <th>reviews_url</th>\n",
       "      <th>specs</th>\n",
       "      <th>price</th>\n",
       "      <th>early_access</th>\n",
       "      <th>product_id</th>\n",
       "      <th>developer</th>\n",
       "      <th>sentiment</th>\n",
       "      <th>metascore</th>\n",
       "    </tr>\n",
       "  </thead>\n",
       "  <tbody>\n",
       "    <tr>\n",
       "      <th>1362</th>\n",
       "      <td>Telltale Games</td>\n",
       "      <td>[Casual, Sports]</td>\n",
       "      <td>Poker Night 2</td>\n",
       "      <td>Poker Night 2</td>\n",
       "      <td>http://store.steampowered.com/app/234710/Poker...</td>\n",
       "      <td>2013-04-26</td>\n",
       "      <td>[Casual, Card Game, Comedy, Singleplayer, Gamb...</td>\n",
       "      <td>NaN</td>\n",
       "      <td>http://steamcommunity.com/app/234710/reviews/?...</td>\n",
       "      <td>[Single-player, Full controller support]</td>\n",
       "      <td>4.99</td>\n",
       "      <td>False</td>\n",
       "      <td>234710</td>\n",
       "      <td>Telltale Games</td>\n",
       "      <td>Very Positive</td>\n",
       "      <td>75</td>\n",
       "    </tr>\n",
       "  </tbody>\n",
       "</table>\n",
       "</div>"
      ],
      "text/plain": [
       "           publisher            genres       app_name          title  \\\n",
       "1362  Telltale Games  [Casual, Sports]  Poker Night 2  Poker Night 2   \n",
       "\n",
       "                                                    url release_date  \\\n",
       "1362  http://store.steampowered.com/app/234710/Poker...   2013-04-26   \n",
       "\n",
       "                                                   tags  discount_price  \\\n",
       "1362  [Casual, Card Game, Comedy, Singleplayer, Gamb...             NaN   \n",
       "\n",
       "                                            reviews_url  \\\n",
       "1362  http://steamcommunity.com/app/234710/reviews/?...   \n",
       "\n",
       "                                         specs price  early_access  \\\n",
       "1362  [Single-player, Full controller support]  4.99         False   \n",
       "\n",
       "      product_id       developer      sentiment metascore  \n",
       "1362      234710  Telltale Games  Very Positive        75  "
      ]
     },
     "execution_count": 46,
     "metadata": {},
     "output_type": "execute_result"
    }
   ],
   "source": [
    "data_games[data_games.product_id==234710] "
   ]
  },
  {
   "cell_type": "code",
   "execution_count": 47,
   "metadata": {},
   "outputs": [
    {
     "data": {
      "text/plain": [
       "Prediction(uid=76561197969749884, iid=234710, r_ui=None, est=81.15747904577692, details={'was_impossible': False})"
      ]
     },
     "execution_count": 47,
     "metadata": {},
     "output_type": "execute_result"
    }
   ],
   "source": [
    "algo.predict(76561197969749884,234710)"
   ]
  },
  {
   "cell_type": "markdown",
   "metadata": {},
   "source": [
    "#### Prueba de recomendacion "
   ]
  },
  {
   "cell_type": "code",
   "execution_count": 48,
   "metadata": {},
   "outputs": [
    {
     "data": {
      "text/plain": [
       "count     29\n",
       "unique    14\n",
       "top       83\n",
       "freq       5\n",
       "Name: metascore, dtype: int64"
      ]
     },
     "execution_count": 48,
     "metadata": {},
     "output_type": "execute_result"
    }
   ],
   "source": [
    "usuario = '76561197969749884'\n",
    "df_user = df1[(df1['user_id'] == usuario) & (df1['metascore'] >= 70.0)]\n",
    "df_user = df_user.reset_index(drop=True)\n",
    "df_user.metascore.describe()"
   ]
  },
  {
   "cell_type": "markdown",
   "metadata": {},
   "source": [
    "Creamos un dataframe en donde vamos a guardar las recomendaciones"
   ]
  },
  {
   "cell_type": "code",
   "execution_count": 49,
   "metadata": {},
   "outputs": [
    {
     "name": "stdout",
     "output_type": "stream",
     "text": [
      "(4499, 1)\n"
     ]
    },
    {
     "data": {
      "text/html": [
       "<div>\n",
       "<style scoped>\n",
       "    .dataframe tbody tr th:only-of-type {\n",
       "        vertical-align: middle;\n",
       "    }\n",
       "\n",
       "    .dataframe tbody tr th {\n",
       "        vertical-align: top;\n",
       "    }\n",
       "\n",
       "    .dataframe thead th {\n",
       "        text-align: right;\n",
       "    }\n",
       "</style>\n",
       "<table border=\"1\" class=\"dataframe\">\n",
       "  <thead>\n",
       "    <tr style=\"text-align: right;\">\n",
       "      <th></th>\n",
       "      <th>title</th>\n",
       "    </tr>\n",
       "    <tr>\n",
       "      <th>product_id</th>\n",
       "      <th></th>\n",
       "    </tr>\n",
       "  </thead>\n",
       "  <tbody>\n",
       "    <tr>\n",
       "      <th>761140</th>\n",
       "      <td>Lost Summoner Kitty</td>\n",
       "    </tr>\n",
       "    <tr>\n",
       "      <th>643980</th>\n",
       "      <td>Ironbound</td>\n",
       "    </tr>\n",
       "    <tr>\n",
       "      <th>670290</th>\n",
       "      <td>Real Pool 3D - Poolians</td>\n",
       "    </tr>\n",
       "    <tr>\n",
       "      <th>767400</th>\n",
       "      <td>弹炸人2222</td>\n",
       "    </tr>\n",
       "    <tr>\n",
       "      <th>773570</th>\n",
       "      <td>NaN</td>\n",
       "    </tr>\n",
       "  </tbody>\n",
       "</table>\n",
       "</div>"
      ],
      "text/plain": [
       "                              title\n",
       "product_id                         \n",
       "761140          Lost Summoner Kitty\n",
       "643980                    Ironbound\n",
       "670290      Real Pool 3D - Poolians\n",
       "767400                      弹炸人2222\n",
       "773570                          NaN"
      ]
     },
     "execution_count": 49,
     "metadata": {},
     "output_type": "execute_result"
    }
   ],
   "source": [
    "recomendaciones_usuario = data_games[['title','product_id']].iloc[:4499].copy()\n",
    "recomendaciones_usuario.index = recomendaciones_usuario.product_id\n",
    "recomendaciones_usuario = recomendaciones_usuario.drop(['product_id'], axis=1)\n",
    "print(recomendaciones_usuario.shape)\n",
    "recomendaciones_usuario.head()"
   ]
  },
  {
   "cell_type": "code",
   "execution_count": 50,
   "metadata": {},
   "outputs": [
    {
     "name": "stdout",
     "output_type": "stream",
     "text": [
      "(38, 3)\n"
     ]
    },
    {
     "data": {
      "text/html": [
       "<div>\n",
       "<style scoped>\n",
       "    .dataframe tbody tr th:only-of-type {\n",
       "        vertical-align: middle;\n",
       "    }\n",
       "\n",
       "    .dataframe tbody tr th {\n",
       "        vertical-align: top;\n",
       "    }\n",
       "\n",
       "    .dataframe thead th {\n",
       "        text-align: right;\n",
       "    }\n",
       "</style>\n",
       "<table border=\"1\" class=\"dataframe\">\n",
       "  <thead>\n",
       "    <tr style=\"text-align: right;\">\n",
       "      <th></th>\n",
       "      <th>user_id</th>\n",
       "      <th>product_id</th>\n",
       "      <th>metascore</th>\n",
       "    </tr>\n",
       "  </thead>\n",
       "  <tbody>\n",
       "    <tr>\n",
       "      <th>1322</th>\n",
       "      <td>76561197969749884</td>\n",
       "      <td>203750</td>\n",
       "      <td>68</td>\n",
       "    </tr>\n",
       "    <tr>\n",
       "      <th>1632</th>\n",
       "      <td>76561197969749884</td>\n",
       "      <td>3990</td>\n",
       "      <td>84</td>\n",
       "    </tr>\n",
       "    <tr>\n",
       "      <th>1634</th>\n",
       "      <td>76561197969749884</td>\n",
       "      <td>99300</td>\n",
       "      <td>76</td>\n",
       "    </tr>\n",
       "    <tr>\n",
       "      <th>2182</th>\n",
       "      <td>76561197969749884</td>\n",
       "      <td>214150</td>\n",
       "      <td>83</td>\n",
       "    </tr>\n",
       "    <tr>\n",
       "      <th>2986</th>\n",
       "      <td>76561197969749884</td>\n",
       "      <td>34010</td>\n",
       "      <td>72</td>\n",
       "    </tr>\n",
       "  </tbody>\n",
       "</table>\n",
       "</div>"
      ],
      "text/plain": [
       "                user_id  product_id metascore\n",
       "1322  76561197969749884      203750        68\n",
       "1632  76561197969749884        3990        84\n",
       "1634  76561197969749884       99300        76\n",
       "2182  76561197969749884      214150        83\n",
       "2986  76561197969749884       34010        72"
      ]
     },
     "execution_count": 50,
     "metadata": {},
     "output_type": "execute_result"
    }
   ],
   "source": [
    "usuario_vistas = df1[['user_id', 'product_id', 'metascore']][df1['user_id'] == usuario]\n",
    "print(usuario_vistas.shape)\n",
    "usuario_vistas.head()"
   ]
  },
  {
   "cell_type": "code",
   "execution_count": 51,
   "metadata": {},
   "outputs": [
    {
     "data": {
      "text/html": [
       "<div>\n",
       "<style scoped>\n",
       "    .dataframe tbody tr th:only-of-type {\n",
       "        vertical-align: middle;\n",
       "    }\n",
       "\n",
       "    .dataframe tbody tr th {\n",
       "        vertical-align: top;\n",
       "    }\n",
       "\n",
       "    .dataframe thead th {\n",
       "        text-align: right;\n",
       "    }\n",
       "</style>\n",
       "<table border=\"1\" class=\"dataframe\">\n",
       "  <thead>\n",
       "    <tr style=\"text-align: right;\">\n",
       "      <th></th>\n",
       "      <th>product_id</th>\n",
       "      <th>title</th>\n",
       "    </tr>\n",
       "  </thead>\n",
       "  <tbody>\n",
       "    <tr>\n",
       "      <th>0</th>\n",
       "      <td>761140</td>\n",
       "      <td>Lost Summoner Kitty</td>\n",
       "    </tr>\n",
       "    <tr>\n",
       "      <th>1</th>\n",
       "      <td>643980</td>\n",
       "      <td>Ironbound</td>\n",
       "    </tr>\n",
       "    <tr>\n",
       "      <th>2</th>\n",
       "      <td>670290</td>\n",
       "      <td>Real Pool 3D - Poolians</td>\n",
       "    </tr>\n",
       "    <tr>\n",
       "      <th>3</th>\n",
       "      <td>767400</td>\n",
       "      <td>弹炸人2222</td>\n",
       "    </tr>\n",
       "    <tr>\n",
       "      <th>4</th>\n",
       "      <td>773570</td>\n",
       "      <td>NaN</td>\n",
       "    </tr>\n",
       "  </tbody>\n",
       "</table>\n",
       "</div>"
      ],
      "text/plain": [
       "   product_id                    title\n",
       "0      761140      Lost Summoner Kitty\n",
       "1      643980                Ironbound\n",
       "2      670290  Real Pool 3D - Poolians\n",
       "3      767400                  弹炸人2222\n",
       "4      773570                      NaN"
      ]
     },
     "execution_count": 51,
     "metadata": {},
     "output_type": "execute_result"
    }
   ],
   "source": [
    "recomendaciones_usuario = recomendaciones_usuario.reset_index()\n",
    "recomendaciones_usuario.head()"
   ]
  },
  {
   "cell_type": "markdown",
   "metadata": {},
   "source": [
    "Y hacemos las recomendaciones"
   ]
  },
  {
   "cell_type": "code",
   "execution_count": 52,
   "metadata": {},
   "outputs": [
    {
     "data": {
      "text/html": [
       "<div>\n",
       "<style scoped>\n",
       "    .dataframe tbody tr th:only-of-type {\n",
       "        vertical-align: middle;\n",
       "    }\n",
       "\n",
       "    .dataframe tbody tr th {\n",
       "        vertical-align: top;\n",
       "    }\n",
       "\n",
       "    .dataframe thead th {\n",
       "        text-align: right;\n",
       "    }\n",
       "</style>\n",
       "<table border=\"1\" class=\"dataframe\">\n",
       "  <thead>\n",
       "    <tr style=\"text-align: right;\">\n",
       "      <th></th>\n",
       "      <th>product_id</th>\n",
       "      <th>title</th>\n",
       "      <th>Estimate_Score</th>\n",
       "    </tr>\n",
       "  </thead>\n",
       "  <tbody>\n",
       "    <tr>\n",
       "      <th>4366</th>\n",
       "      <td>391540</td>\n",
       "      <td>Undertale</td>\n",
       "      <td>92.009134</td>\n",
       "    </tr>\n",
       "    <tr>\n",
       "      <th>631</th>\n",
       "      <td>620</td>\n",
       "      <td>Portal 2</td>\n",
       "      <td>89.877227</td>\n",
       "    </tr>\n",
       "    <tr>\n",
       "      <th>98</th>\n",
       "      <td>4760</td>\n",
       "      <td>Rome: Total War™ - Collection</td>\n",
       "      <td>89.868678</td>\n",
       "    </tr>\n",
       "    <tr>\n",
       "      <th>252</th>\n",
       "      <td>22330</td>\n",
       "      <td>The Elder Scrolls IV: Oblivion® Game of the Ye...</td>\n",
       "      <td>87.164285</td>\n",
       "    </tr>\n",
       "    <tr>\n",
       "      <th>493</th>\n",
       "      <td>8930</td>\n",
       "      <td>Sid Meier's Civilization® V</td>\n",
       "      <td>85.702240</td>\n",
       "    </tr>\n",
       "    <tr>\n",
       "      <th>95</th>\n",
       "      <td>7670</td>\n",
       "      <td>BioShock™</td>\n",
       "      <td>84.800184</td>\n",
       "    </tr>\n",
       "    <tr>\n",
       "      <th>1672</th>\n",
       "      <td>238010</td>\n",
       "      <td>Deus Ex: Human Revolution - Director's Cut</td>\n",
       "      <td>84.615079</td>\n",
       "    </tr>\n",
       "    <tr>\n",
       "      <th>358</th>\n",
       "      <td>22370</td>\n",
       "      <td>Fallout 3: Game of the Year Edition</td>\n",
       "      <td>84.308652</td>\n",
       "    </tr>\n",
       "    <tr>\n",
       "      <th>1067</th>\n",
       "      <td>200260</td>\n",
       "      <td>Batman: Arkham City - Game of the Year Edition</td>\n",
       "      <td>83.458711</td>\n",
       "    </tr>\n",
       "    <tr>\n",
       "      <th>28</th>\n",
       "      <td>70</td>\n",
       "      <td>Half-Life</td>\n",
       "      <td>83.352186</td>\n",
       "    </tr>\n",
       "  </tbody>\n",
       "</table>\n",
       "</div>"
      ],
      "text/plain": [
       "      product_id                                              title  \\\n",
       "4366      391540                                          Undertale   \n",
       "631          620                                           Portal 2   \n",
       "98          4760                      Rome: Total War™ - Collection   \n",
       "252        22330  The Elder Scrolls IV: Oblivion® Game of the Ye...   \n",
       "493         8930                        Sid Meier's Civilization® V   \n",
       "95          7670                                          BioShock™   \n",
       "1672      238010         Deus Ex: Human Revolution - Director's Cut   \n",
       "358        22370                Fallout 3: Game of the Year Edition   \n",
       "1067      200260     Batman: Arkham City - Game of the Year Edition   \n",
       "28            70                                          Half-Life   \n",
       "\n",
       "      Estimate_Score  \n",
       "4366       92.009134  \n",
       "631        89.877227  \n",
       "98         89.868678  \n",
       "252        87.164285  \n",
       "493        85.702240  \n",
       "95         84.800184  \n",
       "1672       84.615079  \n",
       "358        84.308652  \n",
       "1067       83.458711  \n",
       "28         83.352186  "
      ]
     },
     "execution_count": 52,
     "metadata": {},
     "output_type": "execute_result"
    }
   ],
   "source": [
    "recomendaciones_usuario['Estimate_Score'] = recomendaciones_usuario['product_id'].apply(lambda x: algo.predict(usuario, x).est)\n",
    "recomendaciones_usuario = recomendaciones_usuario.sort_values('Estimate_Score', ascending=False)\n",
    "recomendaciones_usuario.head(10)"
   ]
  },
  {
   "cell_type": "code",
   "execution_count": 53,
   "metadata": {},
   "outputs": [
    {
     "data": {
      "text/plain": [
       "(4499, 3)"
      ]
     },
     "execution_count": 53,
     "metadata": {},
     "output_type": "execute_result"
    }
   ],
   "source": [
    "recomendaciones_usuario.shape"
   ]
  },
  {
   "cell_type": "markdown",
   "metadata": {},
   "source": [
    "#### RMSE"
   ]
  },
  {
   "cell_type": "code",
   "execution_count": 54,
   "metadata": {},
   "outputs": [
    {
     "name": "stdout",
     "output_type": "stream",
     "text": [
      "RMSE: 4.3315\n",
      "RMSE: 4.3315\n"
     ]
    },
    {
     "data": {
      "text/plain": [
       "4.331458790754588"
      ]
     },
     "execution_count": 54,
     "metadata": {},
     "output_type": "execute_result"
    }
   ],
   "source": [
    "from surprise import accuracy\n",
    "\n",
    "rmse_svd = accuracy.rmse(predictions)\n",
    "\n",
    "accuracy.rmse(predictions)"
   ]
  },
  {
   "cell_type": "markdown",
   "metadata": {},
   "source": [
    "## Modelo Filtro Colaborativo"
   ]
  },
  {
   "cell_type": "code",
   "execution_count": 55,
   "metadata": {},
   "outputs": [],
   "source": [
    "data_final = data_reviews[['user_id', 'product_id', 'metascore']][:100000]\n",
    "reader = Reader(rating_scale=(1, 100))\n",
    "data = Dataset.load_from_df(data_final, reader)\n",
    "anti_set = data.build_full_trainset().build_anti_testset()"
   ]
  },
  {
   "cell_type": "code",
   "execution_count": 56,
   "metadata": {},
   "outputs": [],
   "source": [
    "games = data_reviews[['product_id' , 'title']].drop_duplicates(['product_id' , 'title'])\n",
    "users = data_reviews[['user_id' , 'username']].drop_duplicates(['user_id' , 'username'])"
   ]
  },
  {
   "cell_type": "code",
   "execution_count": 57,
   "metadata": {},
   "outputs": [
    {
     "name": "stdout",
     "output_type": "stream",
     "text": [
      "Computing the cosine similarity matrix...\n",
      "Done computing similarity matrix.\n",
      "RMSE: 5.1569\n",
      "Computing the cosine similarity matrix...\n",
      "Done computing similarity matrix.\n",
      "RMSE: 5.2765\n",
      "Computing the cosine similarity matrix...\n",
      "Done computing similarity matrix.\n",
      "RMSE: 5.0695\n",
      "Computing the cosine similarity matrix...\n",
      "Done computing similarity matrix.\n",
      "RMSE: 5.0760\n",
      "Computing the cosine similarity matrix...\n",
      "Done computing similarity matrix.\n",
      "RMSE: 5.1190\n",
      "5.069535053215615\n"
     ]
    }
   ],
   "source": [
    "sim_options = {'name': 'cosine' ,'user_based':  False}\n",
    "kf = KFold(n_splits=5)\n",
    "algo = KNNWithMeans(k =3 , sim_options = sim_options)\n",
    "best_algo = None\n",
    "best_rmse = 1000.0\n",
    "best_pred = None\n",
    "for trainset, testset in kf.split(data):\n",
    "    algo.fit(trainset)\n",
    "    predictions = algo.test(testset)\n",
    "    rmse = accuracy.rmse(predictions, verbose=True)\n",
    "    if rmse < best_rmse:\n",
    "        best_rmse= rmse\n",
    "        best_algo = algo\n",
    "        best_pred = predictions\n",
    "        \n",
    "rmse_knn = best_rmse   \n",
    "print(best_rmse)\n"
   ]
  },
  {
   "cell_type": "code",
   "execution_count": 58,
   "metadata": {},
   "outputs": [
    {
     "name": "stdout",
     "output_type": "stream",
     "text": [
      "4.219071418152471\n",
      "{'n_factors': 3, 'n_epochs': 3, 'lr_all': 0.001, 'reg_all': 0.002}\n"
     ]
    }
   ],
   "source": [
    "param_grid = {'n_factors': [3,4,5,50,100],'n_epochs': [3,4,5,10,20], 'lr_all': [0.001, 0.002, 0.005],\n",
    "              'reg_all': [0.002, 0.02, 0.2]}\n",
    "gs = GridSearchCV(KNNBaseline, param_grid, measures=['rmse'], cv=3, n_jobs = -1)\n",
    "gs.fit(data)\n",
    "\n",
    "print(gs.best_score['rmse'])\n",
    "print(gs.best_params['rmse'])"
   ]
  },
  {
   "cell_type": "code",
   "execution_count": 59,
   "metadata": {},
   "outputs": [
    {
     "name": "stdout",
     "output_type": "stream",
     "text": [
      "Estimating biases using als...\n",
      "Computing the cosine similarity matrix...\n",
      "Done computing similarity matrix.\n",
      "RMSE: 3.9378\n",
      "Estimating biases using als...\n",
      "Computing the cosine similarity matrix...\n",
      "Done computing similarity matrix.\n",
      "RMSE: 4.2298\n",
      "Estimating biases using als...\n",
      "Computing the cosine similarity matrix...\n",
      "Done computing similarity matrix.\n",
      "RMSE: 3.8175\n",
      "Estimating biases using als...\n",
      "Computing the cosine similarity matrix...\n",
      "Done computing similarity matrix.\n",
      "RMSE: 4.1363\n",
      "Estimating biases using als...\n",
      "Computing the cosine similarity matrix...\n",
      "Done computing similarity matrix.\n",
      "RMSE: 4.1725\n",
      "3.817479855228582\n"
     ]
    }
   ],
   "source": [
    "sim_options = {'name': 'cosine' ,'user_based':  False}\n",
    "kf = KFold(n_splits=5)\n",
    "algo = KNNBaseline(k =3 , sim_options = sim_options)\n",
    "best_algo = None\n",
    "best_rmse = 1000.0\n",
    "best_pred = None\n",
    "for trainset, testset in kf.split(data):\n",
    "    algo.fit(trainset)\n",
    "    predictions = algo.test(testset)\n",
    "    rmse = accuracy.rmse(predictions, verbose=True)\n",
    "    if rmse < best_rmse:\n",
    "        best_rmse= rmse\n",
    "        best_algo = algo\n",
    "        best_pred = predictions\n",
    "        \n",
    "rmse_knn = best_rmse   \n",
    "print(best_rmse)"
   ]
  },
  {
   "cell_type": "code",
   "execution_count": 60,
   "metadata": {},
   "outputs": [
    {
     "data": {
      "text/plain": [
       "(array([0, 1]), <a list of 2 Text major ticklabel objects>)"
      ]
     },
     "execution_count": 60,
     "metadata": {},
     "output_type": "execute_result"
    },
    {
     "data": {
      "image/png": "[encoded data removed]",
      "text/plain": [
       "<Figure size 432x288 with 1 Axes>"
      ]
     },
     "metadata": {
      "needs_background": "light"
     },
     "output_type": "display_data"
    }
   ],
   "source": [
    "errores = {\n",
    "    'Modelos': ['SVD', 'KNN'],\n",
    "    \n",
    "    'RMSE': [rmse_svd, rmse_knn]}\n",
    "\n",
    "tabla_errores = pd.DataFrame(errores, columns = ['Modelos', 'RMSE'])\n",
    "\n",
    "sns.barplot(x = 'Modelos', y = 'RMSE', data = tabla_errores)\n",
    "plt.grid('y')\n",
    "plt.xticks(rotation = 45)"
   ]
  },
  {
   "cell_type": "markdown",
   "metadata": {},
   "source": [
    "Como se puede ver en el grafico anterior logramos mejorar la performance de nuestro modelo de Benchmark utilizando un modelo de filtro colaborativo y la implementacion de gridsearch para poder obtener los mejores parametros. "
   ]
  },
  {
   "cell_type": "markdown",
   "metadata": {},
   "source": [
    "#### Para pensar, investigar y, opcionalmente, implementar"
   ]
  },
  {
   "cell_type": "markdown",
   "metadata": {},
   "source": [
    "1. ¿Cómo harías para ponerle un valor a la calificación?\n",
    "1. ¿Cómo harías para agregar contenido? Por ejemplo, cuentas con el género, precio, fecha de lanzamiento y más información de los juegos.\n",
    "1. ¿Hay algo que te gustaría investigar o probar?"
   ]
  },
  {
   "cell_type": "markdown",
   "metadata": {},
   "source": [
    "1. Se podria obtener una valoracion por parte de los jugadores mas acertada generando una nueva variable haciendo uso de las horas jugadas por cada usuario ya que en este caso estamos tomando el metascore que es un valor proporcionado por la plataforma y no por los usuarios. Mucho mas util seria poder usar las reseñas de los usuarios mediante procesamiento de lenguaje natural para poder darle una valoracion numerica a cada juego jugado."
   ]
  },
  {
   "cell_type": "markdown",
   "metadata": {},
   "source": [
    "2. Se podrian agregar nuevas reseñas mediante el uso de web scrapping sobre la web de Steam."
   ]
  },
  {
   "cell_type": "markdown",
   "metadata": {},
   "source": [
    "3. Me gustaria poder mejorar el RMSE del modelo propuesto, tal vez probando con otro tipo de modelo o cambiando la variable utilizada para realizar las predicciones. "
   ]
  }
 ],
 "metadata": {
  "colab": {
   "collapsed_sections": [],
   "name": "DS_Proyecto_03_SR.ipynb",
   "provenance": []
  },
  "kernelspec": {
   "display_name": "Python 3",
   "language": "python",
   "name": "python3"
  },
  "language_info": {
   "codemirror_mode": {
    "name": "ipython",
    "version": 3
   },
   "file_extension": ".py",
   "mimetype": "text/x-python",
   "name": "python",
   "nbconvert_exporter": "python",
   "pygments_lexer": "ipython3",
   "version": "3.7.7"
  }
 },
 "nbformat": 4,
 "nbformat_minor": 1
}
