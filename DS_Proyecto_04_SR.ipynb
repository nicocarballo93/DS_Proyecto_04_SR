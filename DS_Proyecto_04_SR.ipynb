{
 "cells": [
  {
   "cell_type": "markdown",
   "metadata": {},
   "source": [
    "# Proyecto 04 - Sistemas de Recomendación (Mejorado)"
   ]
  },
  {
   "cell_type": "markdown",
   "metadata": {},
   "source": [
    "En este proyecto se busca mejorar la performance del modelo presentado en el proyecto numero 3 (RMSE = 3,81). Para lograrlo se procede a aumentar la cantidad de datos adquiridos del dataset original en un 42,73% y optimizar mediante los distintos parametros un modelo de SVD. "
   ]
  },
  {
   "cell_type": "code",
   "execution_count": 1,
   "metadata": {},
   "outputs": [],
   "source": [
    "import gzip\n",
    "import pandas as pd\n",
    "import numpy as np\n",
    "import pandas as pd\n",
    "import matplotlib.pyplot as plt\n",
    "import seaborn as sns\n",
    "from surprise import SVD\n",
    "from surprise import Dataset\n",
    "from surprise import Reader\n",
    "from surprise.model_selection import train_test_split\n",
    "from surprise import accuracy\n",
    "from surprise import NormalPredictor\n",
    "from surprise.model_selection import cross_validate\n",
    "from surprise.model_selection import GridSearchCV"
   ]
  },
  {
   "cell_type": "code",
   "execution_count": 2,
   "metadata": {},
   "outputs": [],
   "source": [
    "def parse(path):\n",
    "    g = gzip.open(path, 'r')\n",
    "    for l in g:\n",
    "        yield eval(l)"
   ]
  },
  {
   "cell_type": "code",
   "execution_count": 3,
   "metadata": {},
   "outputs": [],
   "source": [
    "contador = 0\n",
    "data_reviews = []\n",
    "n = 7\n",
    "for l in parse('steam_reviews.json.gz'):\n",
    "    if contador%n == 0:\n",
    "        data_reviews.append(l)\n",
    "    else:\n",
    "        pass\n",
    "    contador += 1"
   ]
  },
  {
   "cell_type": "code",
   "execution_count": 4,
   "metadata": {},
   "outputs": [],
   "source": [
    "data_games = []\n",
    "for l in parse('steam_games.json.gz'):\n",
    "    data_games.append(l)\n",
    "data_games = pd.DataFrame(data_games)"
   ]
  },
  {
   "cell_type": "code",
   "execution_count": 5,
   "metadata": {},
   "outputs": [],
   "source": [
    "data_reviews = pd.DataFrame(data_reviews)"
   ]
  },
  {
   "cell_type": "markdown",
   "metadata": {},
   "source": [
    "#### Se procede a realizar el mismo tratamiento en los datos que en el proyecto 3 para que esto no interfiera con la performance del nuevo modelo"
   ]
  },
  {
   "cell_type": "code",
   "execution_count": 6,
   "metadata": {},
   "outputs": [
    {
     "data": {
      "text/plain": [
       "(452948, 12)"
      ]
     },
     "execution_count": 6,
     "metadata": {},
     "output_type": "execute_result"
    }
   ],
   "source": [
    "data_reviews.product_id = data_reviews.product_id.replace(['NA'],np.nan)\n",
    "data_reviews = data_reviews[~data_reviews.product_id.isna()]\n",
    "data_reviews = data_reviews[~data_reviews.user_id.isna()]\n",
    "data_reviews.shape"
   ]
  },
  {
   "cell_type": "code",
   "execution_count": 7,
   "metadata": {},
   "outputs": [
    {
     "name": "stdout",
     "output_type": "stream",
     "text": [
      "121.26549068383463 390.4632805374327 -1050.1243509284636 1292.6553322961327\n"
     ]
    }
   ],
   "source": [
    "valor_medio = data_reviews['hours'].mean()\n",
    "std = data_reviews['hours'].std()\n",
    "minimo = valor_medio - 3*std\n",
    "maximo = valor_medio + 3*std\n",
    "mascara_outliers = np.logical_or(data_reviews['hours'] < minimo, data_reviews['hours'] > maximo)\n",
    "print(valor_medio, std, minimo, maximo)"
   ]
  },
  {
   "cell_type": "code",
   "execution_count": 8,
   "metadata": {},
   "outputs": [
    {
     "data": {
      "text/plain": [
       "False    445375\n",
       "True       7573\n",
       "Name: hours, dtype: int64"
      ]
     },
     "execution_count": 8,
     "metadata": {},
     "output_type": "execute_result"
    }
   ],
   "source": [
    "mascara_outliers.value_counts()"
   ]
  },
  {
   "cell_type": "code",
   "execution_count": 9,
   "metadata": {},
   "outputs": [
    {
     "data": {
      "text/plain": [
       "count    444276.000000\n",
       "mean         82.877335\n",
       "std         174.037405\n",
       "min           0.000000\n",
       "25%           4.600000\n",
       "50%          17.900000\n",
       "75%          68.100000\n",
       "max        1292.500000\n",
       "Name: hours, dtype: float64"
      ]
     },
     "execution_count": 9,
     "metadata": {},
     "output_type": "execute_result"
    }
   ],
   "source": [
    "data_reviews = data_reviews[~mascara_outliers]\n",
    "data_reviews['hours'].describe()"
   ]
  },
  {
   "cell_type": "code",
   "execution_count": 10,
   "metadata": {},
   "outputs": [
    {
     "data": {
      "text/plain": [
       "84.0    16161\n",
       "81.0    15887\n",
       "88.0    14682\n",
       "83.0    14276\n",
       "92.0    13800\n",
       "        ...  \n",
       "36.0        7\n",
       "34.0        4\n",
       "35.0        3\n",
       "27.0        2\n",
       "42.0        1\n",
       "Name: metascore, Length: 69, dtype: int64"
      ]
     },
     "execution_count": 10,
     "metadata": {},
     "output_type": "execute_result"
    }
   ],
   "source": [
    "data_games = data_games.rename(columns={'id':'product_id'})\n",
    "data_reviews = data_reviews.merge(data_games, on='product_id', how='left')\n",
    "\n",
    "data_reviews.metascore = data_reviews.metascore.replace(['NA'],np.nan)\n",
    "data_reviews.metascore = data_reviews.metascore.astype(np.float32)\n",
    "data_reviews.product_id = data_reviews.product_id.astype(int) \n",
    "\n",
    "data_reviews.metascore.value_counts()"
   ]
  },
  {
   "cell_type": "code",
   "execution_count": 11,
   "metadata": {},
   "outputs": [
    {
     "name": "stdout",
     "output_type": "stream",
     "text": [
      "(445764, 27)\n",
      "(262087, 27)\n"
     ]
    }
   ],
   "source": [
    "print(data_reviews.shape)\n",
    "data_reviews = data_reviews[~data_reviews.metascore.isna()]\n",
    "print(data_reviews.shape)"
   ]
  },
  {
   "cell_type": "code",
   "execution_count": 12,
   "metadata": {},
   "outputs": [
    {
     "data": {
      "text/html": [
       "<div>\n",
       "<style scoped>\n",
       "    .dataframe tbody tr th:only-of-type {\n",
       "        vertical-align: middle;\n",
       "    }\n",
       "\n",
       "    .dataframe tbody tr th {\n",
       "        vertical-align: top;\n",
       "    }\n",
       "\n",
       "    .dataframe thead th {\n",
       "        text-align: right;\n",
       "    }\n",
       "</style>\n",
       "<table border=\"1\" class=\"dataframe\">\n",
       "  <thead>\n",
       "    <tr style=\"text-align: right;\">\n",
       "      <th></th>\n",
       "      <th>username</th>\n",
       "      <th>hours</th>\n",
       "      <th>product_id</th>\n",
       "      <th>user_id</th>\n",
       "      <th>genres</th>\n",
       "      <th>title</th>\n",
       "      <th>price</th>\n",
       "      <th>metascore</th>\n",
       "    </tr>\n",
       "  </thead>\n",
       "  <tbody>\n",
       "    <tr>\n",
       "      <th>0</th>\n",
       "      <td>Weaky1100</td>\n",
       "      <td>1.3</td>\n",
       "      <td>350280</td>\n",
       "      <td>76561198048988003</td>\n",
       "      <td>[Action]</td>\n",
       "      <td>LawBreakers</td>\n",
       "      <td>29.99</td>\n",
       "      <td>76.0</td>\n",
       "    </tr>\n",
       "    <tr>\n",
       "      <th>3</th>\n",
       "      <td>Avpuli</td>\n",
       "      <td>2.1</td>\n",
       "      <td>363520</td>\n",
       "      <td>76561198032237009</td>\n",
       "      <td>[Action, Adventure, Indie, RPG]</td>\n",
       "      <td>Goliath</td>\n",
       "      <td>11.99</td>\n",
       "      <td>57.0</td>\n",
       "    </tr>\n",
       "  </tbody>\n",
       "</table>\n",
       "</div>"
      ],
      "text/plain": [
       "    username  hours  product_id            user_id  \\\n",
       "0  Weaky1100    1.3      350280  76561198048988003   \n",
       "3     Avpuli    2.1      363520  76561198032237009   \n",
       "\n",
       "                            genres        title  price  metascore  \n",
       "0                         [Action]  LawBreakers  29.99       76.0  \n",
       "3  [Action, Adventure, Indie, RPG]      Goliath  11.99       57.0  "
      ]
     },
     "execution_count": 12,
     "metadata": {},
     "output_type": "execute_result"
    }
   ],
   "source": [
    "data_reviews = data_reviews.drop(columns=['products','page_order','date','text','early_access_x','page','found_funny','compensation','publisher','app_name','url','release_date','tags','discount_price','reviews_url','specs','early_access_y','developer','sentiment'])\n",
    "data_reviews.head(2)"
   ]
  },
  {
   "cell_type": "code",
   "execution_count": 13,
   "metadata": {},
   "outputs": [],
   "source": [
    "data_games = data_games[~data_games.product_id.isna()]\n",
    "data_games.product_id = data_games.product_id.astype(int)"
   ]
  },
  {
   "cell_type": "code",
   "execution_count": 14,
   "metadata": {},
   "outputs": [
    {
     "data": {
      "text/html": [
       "<div>\n",
       "<style scoped>\n",
       "    .dataframe tbody tr th:only-of-type {\n",
       "        vertical-align: middle;\n",
       "    }\n",
       "\n",
       "    .dataframe tbody tr th {\n",
       "        vertical-align: top;\n",
       "    }\n",
       "\n",
       "    .dataframe thead th {\n",
       "        text-align: right;\n",
       "    }\n",
       "</style>\n",
       "<table border=\"1\" class=\"dataframe\">\n",
       "  <thead>\n",
       "    <tr style=\"text-align: right;\">\n",
       "      <th></th>\n",
       "      <th>username</th>\n",
       "      <th>hours</th>\n",
       "      <th>product_id</th>\n",
       "      <th>user_id</th>\n",
       "    </tr>\n",
       "  </thead>\n",
       "  <tbody>\n",
       "    <tr>\n",
       "      <th>0</th>\n",
       "      <td>Weaky1100</td>\n",
       "      <td>1.3</td>\n",
       "      <td>350280</td>\n",
       "      <td>76561198048988003</td>\n",
       "    </tr>\n",
       "    <tr>\n",
       "      <th>3</th>\n",
       "      <td>Avpuli</td>\n",
       "      <td>2.1</td>\n",
       "      <td>363520</td>\n",
       "      <td>76561198032237009</td>\n",
       "    </tr>\n",
       "  </tbody>\n",
       "</table>\n",
       "</div>"
      ],
      "text/plain": [
       "    username  hours  product_id            user_id\n",
       "0  Weaky1100    1.3      350280  76561198048988003\n",
       "3     Avpuli    2.1      363520  76561198032237009"
      ]
     },
     "execution_count": 14,
     "metadata": {},
     "output_type": "execute_result"
    }
   ],
   "source": [
    "reader = Reader(rating_scale=(1, 100))\n",
    "\n",
    "df1 = data_reviews.copy()\n",
    "df1 = df1.drop(['metascore','genres','title','title','price'], axis=1)\n",
    "df1.head(2)"
   ]
  },
  {
   "cell_type": "code",
   "execution_count": 15,
   "metadata": {},
   "outputs": [
    {
     "data": {
      "text/html": [
       "<div>\n",
       "<style scoped>\n",
       "    .dataframe tbody tr th:only-of-type {\n",
       "        vertical-align: middle;\n",
       "    }\n",
       "\n",
       "    .dataframe tbody tr th {\n",
       "        vertical-align: top;\n",
       "    }\n",
       "\n",
       "    .dataframe thead th {\n",
       "        text-align: right;\n",
       "    }\n",
       "</style>\n",
       "<table border=\"1\" class=\"dataframe\">\n",
       "  <thead>\n",
       "    <tr style=\"text-align: right;\">\n",
       "      <th></th>\n",
       "      <th>username</th>\n",
       "      <th>hours</th>\n",
       "      <th>product_id</th>\n",
       "      <th>user_id</th>\n",
       "      <th>publisher</th>\n",
       "      <th>genres</th>\n",
       "      <th>app_name</th>\n",
       "      <th>title</th>\n",
       "      <th>url</th>\n",
       "      <th>release_date</th>\n",
       "      <th>tags</th>\n",
       "      <th>discount_price</th>\n",
       "      <th>reviews_url</th>\n",
       "      <th>specs</th>\n",
       "      <th>price</th>\n",
       "      <th>early_access</th>\n",
       "      <th>developer</th>\n",
       "      <th>sentiment</th>\n",
       "      <th>metascore</th>\n",
       "    </tr>\n",
       "  </thead>\n",
       "  <tbody>\n",
       "    <tr>\n",
       "      <th>0</th>\n",
       "      <td>Weaky1100</td>\n",
       "      <td>1.3</td>\n",
       "      <td>350280</td>\n",
       "      <td>76561198048988003</td>\n",
       "      <td>Nexon America Inc.</td>\n",
       "      <td>[Action]</td>\n",
       "      <td>LawBreakers</td>\n",
       "      <td>LawBreakers</td>\n",
       "      <td>http://store.steampowered.com/app/350280/LawBr...</td>\n",
       "      <td>2017-08-07</td>\n",
       "      <td>[Action, FPS, Multiplayer, Shooter, Arena Shoo...</td>\n",
       "      <td>NaN</td>\n",
       "      <td>http://steamcommunity.com/app/350280/reviews/?...</td>\n",
       "      <td>[Multi-player, Online Multi-Player, Steam Achi...</td>\n",
       "      <td>29.99</td>\n",
       "      <td>False</td>\n",
       "      <td>Boss Key Productions</td>\n",
       "      <td>Mostly Positive</td>\n",
       "      <td>76</td>\n",
       "    </tr>\n",
       "    <tr>\n",
       "      <th>1</th>\n",
       "      <td>youarenxt1</td>\n",
       "      <td>12.3</td>\n",
       "      <td>350280</td>\n",
       "      <td>76561198392242475</td>\n",
       "      <td>Nexon America Inc.</td>\n",
       "      <td>[Action]</td>\n",
       "      <td>LawBreakers</td>\n",
       "      <td>LawBreakers</td>\n",
       "      <td>http://store.steampowered.com/app/350280/LawBr...</td>\n",
       "      <td>2017-08-07</td>\n",
       "      <td>[Action, FPS, Multiplayer, Shooter, Arena Shoo...</td>\n",
       "      <td>NaN</td>\n",
       "      <td>http://steamcommunity.com/app/350280/reviews/?...</td>\n",
       "      <td>[Multi-player, Online Multi-Player, Steam Achi...</td>\n",
       "      <td>29.99</td>\n",
       "      <td>False</td>\n",
       "      <td>Boss Key Productions</td>\n",
       "      <td>Mostly Positive</td>\n",
       "      <td>76</td>\n",
       "    </tr>\n",
       "  </tbody>\n",
       "</table>\n",
       "</div>"
      ],
      "text/plain": [
       "     username  hours  product_id            user_id           publisher  \\\n",
       "0   Weaky1100    1.3      350280  76561198048988003  Nexon America Inc.   \n",
       "1  youarenxt1   12.3      350280  76561198392242475  Nexon America Inc.   \n",
       "\n",
       "     genres     app_name        title  \\\n",
       "0  [Action]  LawBreakers  LawBreakers   \n",
       "1  [Action]  LawBreakers  LawBreakers   \n",
       "\n",
       "                                                 url release_date  \\\n",
       "0  http://store.steampowered.com/app/350280/LawBr...   2017-08-07   \n",
       "1  http://store.steampowered.com/app/350280/LawBr...   2017-08-07   \n",
       "\n",
       "                                                tags  discount_price  \\\n",
       "0  [Action, FPS, Multiplayer, Shooter, Arena Shoo...             NaN   \n",
       "1  [Action, FPS, Multiplayer, Shooter, Arena Shoo...             NaN   \n",
       "\n",
       "                                         reviews_url  \\\n",
       "0  http://steamcommunity.com/app/350280/reviews/?...   \n",
       "1  http://steamcommunity.com/app/350280/reviews/?...   \n",
       "\n",
       "                                               specs  price  early_access  \\\n",
       "0  [Multi-player, Online Multi-Player, Steam Achi...  29.99         False   \n",
       "1  [Multi-player, Online Multi-Player, Steam Achi...  29.99         False   \n",
       "\n",
       "              developer        sentiment metascore  \n",
       "0  Boss Key Productions  Mostly Positive        76  \n",
       "1  Boss Key Productions  Mostly Positive        76  "
      ]
     },
     "execution_count": 15,
     "metadata": {},
     "output_type": "execute_result"
    }
   ],
   "source": [
    "data_games_train = data_games.copy()\n",
    "df1= pd.merge(df1, data_games_train, on='product_id', how='inner')\n",
    "df1['user_id'] = df1['user_id'].dropna()\n",
    "df1 = df1[~df1['user_id'].isnull()]\n",
    "df1 = df1[df1['metascore']!='NA']\n",
    "df1.head(2)"
   ]
  },
  {
   "cell_type": "markdown",
   "metadata": {},
   "source": [
    "### Optimización de parámetros - Modelo (SVD)"
   ]
  },
  {
   "cell_type": "code",
   "execution_count": 18,
   "metadata": {},
   "outputs": [
    {
     "name": "stdout",
     "output_type": "stream",
     "text": [
      "1\n",
      "Evaluating RMSE of algorithm SVD on 3 split(s).\n",
      "\n",
      "                  Fold 1  Fold 2  Fold 3  Mean    Std     \n",
      "RMSE (testset)    1.7908  1.8761  1.8165  1.8278  0.0357  \n",
      "Fit time          4.20    3.57    3.50    3.76    0.31    \n",
      "Test time         0.90    0.86    0.80    0.85    0.04    \n",
      "2\n",
      "Evaluating RMSE of algorithm SVD on 3 split(s).\n",
      "\n",
      "                  Fold 1  Fold 2  Fold 3  Mean    Std     \n",
      "RMSE (testset)    1.8459  1.8654  1.9308  1.8807  0.0363  \n",
      "Fit time          3.47    3.30    3.03    3.27    0.18    \n",
      "Test time         0.72    0.85    0.91    0.83    0.08    \n",
      "4\n",
      "Evaluating RMSE of algorithm SVD on 3 split(s).\n",
      "\n",
      "                  Fold 1  Fold 2  Fold 3  Mean    Std     \n",
      "RMSE (testset)    1.9507  1.9700  1.9654  1.9620  0.0082  \n",
      "Fit time          3.56    3.38    3.58    3.51    0.09    \n",
      "Test time         0.50    0.82    0.69    0.67    0.13    \n",
      "8\n",
      "Evaluating RMSE of algorithm SVD on 3 split(s).\n",
      "\n",
      "                  Fold 1  Fold 2  Fold 3  Mean    Std     \n",
      "RMSE (testset)    2.0396  2.0453  2.0582  2.0477  0.0078  \n",
      "Fit time          3.95    3.79    3.61    3.78    0.14    \n",
      "Test time         0.72    0.86    0.67    0.75    0.08    \n",
      "16\n",
      "Evaluating RMSE of algorithm SVD on 3 split(s).\n",
      "\n",
      "                  Fold 1  Fold 2  Fold 3  Mean    Std     \n",
      "RMSE (testset)    2.1466  2.1612  2.2120  2.1733  0.0281  \n",
      "Fit time          4.47    4.33    4.52    4.44    0.08    \n",
      "Test time         0.73    0.80    0.77    0.77    0.03    \n",
      "32\n",
      "Evaluating RMSE of algorithm SVD on 3 split(s).\n",
      "\n",
      "                  Fold 1  Fold 2  Fold 3  Mean    Std     \n",
      "RMSE (testset)    2.3451  2.3032  2.3204  2.3229  0.0172  \n",
      "Fit time          5.50    5.55    5.71    5.59    0.09    \n",
      "Test time         0.85    0.53    0.56    0.64    0.14    \n",
      "64\n",
      "Evaluating RMSE of algorithm SVD on 3 split(s).\n",
      "\n",
      "                  Fold 1  Fold 2  Fold 3  Mean    Std     \n",
      "RMSE (testset)    2.5524  2.4803  2.4658  2.4995  0.0379  \n",
      "Fit time          7.87    8.24    7.81    7.98    0.19    \n",
      "Test time         0.78    0.52    0.91    0.74    0.17    \n",
      "128\n",
      "Evaluating RMSE of algorithm SVD on 3 split(s).\n",
      "\n",
      "                  Fold 1  Fold 2  Fold 3  Mean    Std     \n",
      "RMSE (testset)    2.6791  2.7361  2.7539  2.7231  0.0319  \n",
      "Fit time          12.30   12.84   12.39   12.51   0.24    \n",
      "Test time         0.53    0.78    0.55    0.62    0.11    \n",
      "256\n",
      "Evaluating RMSE of algorithm SVD on 3 split(s).\n",
      "\n",
      "                  Fold 1  Fold 2  Fold 3  Mean    Std     \n",
      "RMSE (testset)    2.9849  3.0052  2.9906  2.9936  0.0085  \n",
      "Fit time          22.65   23.79   22.80   23.08   0.51    \n",
      "Test time         0.58    0.76    0.58    0.64    0.08    \n"
     ]
    }
   ],
   "source": [
    "from surprise.model_selection import cross_validate\n",
    "\n",
    "rmse_test_means = []\n",
    "factores = [1,2,4,8,16,32,64,128,256]\n",
    "\n",
    "for factor in factores:\n",
    "    print(factor)\n",
    "    algo = SVD(n_factors=factor)\n",
    "    cv = cross_validate(algo, data, measures=['RMSE'], cv = 3, verbose=True)\n",
    "    rmse_test_means.append(np.mean(cv['test_rmse']))"
   ]
  },
  {
   "cell_type": "code",
   "execution_count": 19,
   "metadata": {},
   "outputs": [
    {
     "data": {
      "image/png": "[encoded data removed]",
      "text/plain": [
       "<Figure size 432x288 with 1 Axes>"
      ]
     },
     "metadata": {
      "needs_background": "light"
     },
     "output_type": "display_data"
    }
   ],
   "source": [
    "plt.scatter(factores, rmse_test_means)\n",
    "plt.xlabel('Numero de factores')\n",
    "plt.ylabel('Error RMSE')\n",
    "plt.show()"
   ]
  },
  {
   "cell_type": "code",
   "execution_count": 20,
   "metadata": {},
   "outputs": [],
   "source": [
    "from surprise.model_selection import GridSearchCV\n",
    "\n",
    "param_grid = {'n_factors': [5,50,100],'n_epochs': [5, 10,20], 'lr_all': [0.001, 0.002, 0.005],\n",
    "              'reg_all': [0.002, 0.02, 0.2]}\n",
    "gs = GridSearchCV(SVD, param_grid, measures=['rmse'], cv=3, n_jobs = -1)\n",
    "gs.fit(data)"
   ]
  },
  {
   "cell_type": "code",
   "execution_count": 21,
   "metadata": {},
   "outputs": [
    {
     "name": "stdout",
     "output_type": "stream",
     "text": [
      "1.9602617543775782\n",
      "{'n_factors': 5, 'n_epochs': 20, 'lr_all': 0.005, 'reg_all': 0.002}\n"
     ]
    }
   ],
   "source": [
    "print(gs.best_score['rmse'])\n",
    "print(gs.best_params['rmse'])"
   ]
  },
  {
   "cell_type": "code",
   "execution_count": 22,
   "metadata": {},
   "outputs": [
    {
     "name": "stdout",
     "output_type": "stream",
     "text": [
      "1\n",
      "Evaluating RMSE of algorithm SVD on 3 split(s).\n",
      "\n",
      "                  Fold 1  Fold 2  Fold 3  Mean    Std     \n",
      "RMSE (testset)    1.8033  1.7437  1.8170  1.7880  0.0318  \n",
      "Fit time          3.20    3.27    3.26    3.25    0.03    \n",
      "Test time         0.61    0.85    0.59    0.68    0.11    \n",
      "2\n",
      "Evaluating RMSE of algorithm SVD on 3 split(s).\n",
      "\n",
      "                  Fold 1  Fold 2  Fold 3  Mean    Std     \n",
      "RMSE (testset)    1.8724  1.8323  1.8847  1.8631  0.0223  \n",
      "Fit time          3.16    3.28    3.63    3.36    0.20    \n",
      "Test time         0.88    0.75    0.60    0.74    0.12    \n",
      "4\n",
      "Evaluating RMSE of algorithm SVD on 3 split(s).\n",
      "\n",
      "                  Fold 1  Fold 2  Fold 3  Mean    Std     \n",
      "RMSE (testset)    1.8705  1.9683  1.9529  1.9305  0.0429  \n",
      "Fit time          3.44    3.45    3.81    3.57    0.17    \n",
      "Test time         0.85    0.71    0.90    0.82    0.08    \n",
      "5\n",
      "Evaluating RMSE of algorithm SVD on 3 split(s).\n",
      "\n",
      "                  Fold 1  Fold 2  Fold 3  Mean    Std     \n",
      "RMSE (testset)    1.9859  1.9606  1.9480  1.9648  0.0158  \n",
      "Fit time          3.73    3.56    3.69    3.66    0.07    \n",
      "Test time         1.03    0.55    0.57    0.72    0.23    \n",
      "8\n",
      "Evaluating RMSE of algorithm SVD on 3 split(s).\n",
      "\n",
      "                  Fold 1  Fold 2  Fold 3  Mean    Std     \n",
      "RMSE (testset)    2.0292  1.9951  2.0487  2.0243  0.0221  \n",
      "Fit time          3.76    3.90    4.66    4.11    0.40    \n",
      "Test time         0.88    0.63    0.88    0.79    0.12    \n",
      "16\n",
      "Evaluating RMSE of algorithm SVD on 3 split(s).\n",
      "\n",
      "                  Fold 1  Fold 2  Fold 3  Mean    Std     \n",
      "RMSE (testset)    2.1885  2.1007  2.0554  2.1149  0.0553  \n",
      "Fit time          4.39    5.04    4.68    4.71    0.27    \n",
      "Test time         0.64    1.00    0.63    0.76    0.17    \n",
      "32\n",
      "Evaluating RMSE of algorithm SVD on 3 split(s).\n",
      "\n",
      "                  Fold 1  Fold 2  Fold 3  Mean    Std     \n",
      "RMSE (testset)    2.2442  2.3234  2.1761  2.2479  0.0602  \n",
      "Fit time          5.76    5.38    5.69    5.61    0.16    \n",
      "Test time         0.55    0.64    0.63    0.60    0.04    \n",
      "64\n",
      "Evaluating RMSE of algorithm SVD on 3 split(s).\n",
      "\n",
      "                  Fold 1  Fold 2  Fold 3  Mean    Std     \n",
      "RMSE (testset)    2.4285  2.3924  2.4161  2.4123  0.0150  \n",
      "Fit time          8.79    8.72    8.32    8.61    0.21    \n",
      "Test time         0.91    0.55    0.64    0.70    0.16    \n",
      "128\n",
      "Evaluating RMSE of algorithm SVD on 3 split(s).\n",
      "\n",
      "                  Fold 1  Fold 2  Fold 3  Mean    Std     \n",
      "RMSE (testset)    2.5769  2.7196  2.5384  2.6116  0.0779  \n",
      "Fit time          12.79   12.79   13.22   12.93   0.20    \n",
      "Test time         0.89    0.95    0.91    0.92    0.03    \n",
      "256\n",
      "Evaluating RMSE of algorithm SVD on 3 split(s).\n",
      "\n",
      "                  Fold 1  Fold 2  Fold 3  Mean    Std     \n",
      "RMSE (testset)    2.8356  2.9168  2.8562  2.8695  0.0345  \n",
      "Fit time          23.39   22.23   22.96   22.86   0.48    \n",
      "Test time         0.63    1.00    0.86    0.83    0.15    \n"
     ]
    }
   ],
   "source": [
    "rmse_test_means = []\n",
    "factores = [1,2,4,5,8,16,32,64,128,256]\n",
    "\n",
    "for factor in factores:\n",
    "    print(factor)\n",
    "    algo = SVD(n_factors=factor, n_epochs=20, lr_all=0.005, reg_all=0.002)\n",
    "    cv = cross_validate(algo, data, measures=['RMSE'], cv = 3, verbose=True)\n",
    "    rmse_test_means.append(np.mean(cv['test_rmse']))"
   ]
  },
  {
   "cell_type": "code",
   "execution_count": 23,
   "metadata": {},
   "outputs": [
    {
     "data": {
      "image/png": "[encoded data removed]",
      "text/plain": [
       "<Figure size 432x288 with 1 Axes>"
      ]
     },
     "metadata": {
      "needs_background": "light"
     },
     "output_type": "display_data"
    }
   ],
   "source": [
    "plt.scatter(factores, rmse_test_means)\n",
    "plt.xlabel('Numero de factores')\n",
    "plt.ylabel('Error RMSE')\n",
    "plt.show()"
   ]
  },
  {
   "cell_type": "markdown",
   "metadata": {},
   "source": [
    "### Entrenamos el modelo teniendo en cuenta los parametros "
   ]
  },
  {
   "cell_type": "code",
   "execution_count": 24,
   "metadata": {},
   "outputs": [],
   "source": [
    "reader = Reader(rating_scale=(1, 100))\n",
    "data = Dataset.load_from_df(df1[['user_id', 'product_id', 'metascore']], reader)\n",
    "trainset, testset = train_test_split(data, test_size=.25)\n",
    "algo = SVD(n_factors=5, n_epochs=20, lr_all=0.005, reg_all=0.002)\n",
    "algo.fit(trainset)\n",
    "predictions = algo.test(testset)"
   ]
  },
  {
   "cell_type": "markdown",
   "metadata": {},
   "source": [
    "### Calculamos la performance de nuestro nuevo modelo"
   ]
  },
  {
   "cell_type": "code",
   "execution_count": 25,
   "metadata": {},
   "outputs": [
    {
     "name": "stdout",
     "output_type": "stream",
     "text": [
      "RMSE: 1.8543\n",
      "RMSE: 1.8543\n"
     ]
    },
    {
     "data": {
      "text/plain": [
       "1.8542778998135163"
      ]
     },
     "execution_count": 25,
     "metadata": {},
     "output_type": "execute_result"
    }
   ],
   "source": [
    "rmse_svd_2 = accuracy.rmse(predictions)\n",
    "\n",
    "accuracy.rmse(predictions)"
   ]
  },
  {
   "cell_type": "markdown",
   "metadata": {},
   "source": [
    "Podemos ver que mejoramos ampliamente el RMSE del modelo planteado en el proyecto 3, pasando de un 3,81 a un 1,85 haciendo uso de un modelo SVD con optimizacion de parametros y ampliando la cantidad de datos para el analisis en un 42,73%. "
   ]
  }
 ],
 "metadata": {
  "kernelspec": {
   "display_name": "Python 3",
   "language": "python",
   "name": "python3"
  },
  "language_info": {
   "codemirror_mode": {
    "name": "ipython",
    "version": 3
   },
   "file_extension": ".py",
   "mimetype": "text/x-python",
   "name": "python",
   "nbconvert_exporter": "python",
   "pygments_lexer": "ipython3",
   "version": "3.7.7"
  }
 },
 "nbformat": 4,
 "nbformat_minor": 4
}
